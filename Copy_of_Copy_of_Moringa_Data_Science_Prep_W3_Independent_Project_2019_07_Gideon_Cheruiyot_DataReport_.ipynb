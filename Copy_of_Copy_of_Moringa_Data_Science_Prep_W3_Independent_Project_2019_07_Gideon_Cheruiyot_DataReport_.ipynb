{
  "nbformat": 4,
  "nbformat_minor": 0,
  "metadata": {
    "colab": {
      "name": "Copy of Copy of Moringa_Data_Science_Prep_W3_Independent_Project_2019_07_Gideon_Cheruiyot_DataReport..ipynb",
      "provenance": [],
      "collapsed_sections": [],
      "include_colab_link": true
    },
    "kernelspec": {
      "name": "python3",
      "display_name": "Python 3"
    }
  },
  "cells": [
    {
      "cell_type": "markdown",
      "metadata": {
        "id": "view-in-github",
        "colab_type": "text"
      },
      "source": [
        "<a href=\"https://colab.research.google.com/github/pkor725/-MTN-Cote-d-Ivoire/blob/master/Copy_of_Copy_of_Moringa_Data_Science_Prep_W3_Independent_Project_2019_07_Gideon_Cheruiyot_DataReport_.ipynb\" target=\"_parent\"><img src=\"https://colab.research.google.com/assets/colab-badge.svg\" alt=\"Open In Colab\"/></a>"
      ]
    },
    {
      "cell_type": "code",
      "metadata": {
        "id": "_xttJAUZlOL5",
        "colab_type": "code",
        "colab": {}
      },
      "source": [
        "import pandas as pd\n",
        "import numpy as np"
      ],
      "execution_count": 0,
      "outputs": []
    },
    {
      "cell_type": "code",
      "metadata": {
        "id": "0ajl-G72qZpQ",
        "colab_type": "code",
        "outputId": "6cd2643a-745d-4b78-f6fa-bc1e501db714",
        "colab": {
          "base_uri": "https://localhost:8080/",
          "height": 297
        }
      },
      "source": [
        "\n",
        "dt = pd.read_csv('cells_geo.csv', delimiter = ';')\n",
        "dt.head()\n",
        "\n",
        "     \n"
      ],
      "execution_count": 7,
      "outputs": [
        {
          "output_type": "execute_result",
          "data": {
            "text/html": [
              "<div>\n",
              "<style scoped>\n",
              "    .dataframe tbody tr th:only-of-type {\n",
              "        vertical-align: middle;\n",
              "    }\n",
              "\n",
              "    .dataframe tbody tr th {\n",
              "        vertical-align: top;\n",
              "    }\n",
              "\n",
              "    .dataframe thead th {\n",
              "        text-align: right;\n",
              "    }\n",
              "</style>\n",
              "<table border=\"1\" class=\"dataframe\">\n",
              "  <thead>\n",
              "    <tr style=\"text-align: right;\">\n",
              "      <th></th>\n",
              "      <th>Unnamed: 0</th>\n",
              "      <th>VILLES</th>\n",
              "      <th>STATUS</th>\n",
              "      <th>LOCALISATION</th>\n",
              "      <th>DECOUPZONE</th>\n",
              "      <th>ZONENAME</th>\n",
              "      <th>LONGITUDE</th>\n",
              "      <th>LATITUDE</th>\n",
              "      <th>REGION</th>\n",
              "      <th>AREA</th>\n",
              "      <th>CELL_ID</th>\n",
              "      <th>SITE_CODE</th>\n",
              "    </tr>\n",
              "  </thead>\n",
              "  <tbody>\n",
              "    <tr>\n",
              "      <th>0</th>\n",
              "      <td>0</td>\n",
              "      <td>ADJAME</td>\n",
              "      <td>In Service</td>\n",
              "      <td>ABIDJAN</td>\n",
              "      <td>\"Abidjan_EST</td>\n",
              "      <td>AGBANNEW</td>\n",
              "      <td>-4.000667</td>\n",
              "      <td>5.368194</td>\n",
              "      <td>LAGUNE</td>\n",
              "      <td>NaN</td>\n",
              "      <td>fbb2e75af3</td>\n",
              "      <td>0bb492ef17</td>\n",
              "    </tr>\n",
              "    <tr>\n",
              "      <th>1</th>\n",
              "      <td>1</td>\n",
              "      <td>ADJAME</td>\n",
              "      <td>In Service</td>\n",
              "      <td>ABIDJAN</td>\n",
              "      <td>\"Abidjan_EST</td>\n",
              "      <td>AGBANNEW</td>\n",
              "      <td>-4.000667</td>\n",
              "      <td>5.368194</td>\n",
              "      <td>LAGUNE</td>\n",
              "      <td>NaN</td>\n",
              "      <td>1502501d78</td>\n",
              "      <td>0bb492ef17</td>\n",
              "    </tr>\n",
              "    <tr>\n",
              "      <th>2</th>\n",
              "      <td>2</td>\n",
              "      <td>ADJAME</td>\n",
              "      <td>In Service</td>\n",
              "      <td>ABIDJAN</td>\n",
              "      <td>\"Abidjan_EST</td>\n",
              "      <td>AGBANNEW</td>\n",
              "      <td>-4.000667</td>\n",
              "      <td>5.368194</td>\n",
              "      <td>LAGUNE</td>\n",
              "      <td>NaN</td>\n",
              "      <td>0c2e182a0c</td>\n",
              "      <td>0bb492ef17</td>\n",
              "    </tr>\n",
              "    <tr>\n",
              "      <th>3</th>\n",
              "      <td>3</td>\n",
              "      <td>ASSINIE</td>\n",
              "      <td>In Service</td>\n",
              "      <td>INTERIEUR</td>\n",
              "      <td>Grand-EST</td>\n",
              "      <td>ASSINIE\"</td>\n",
              "      <td>-3.488467</td>\n",
              "      <td>5.158761</td>\n",
              "      <td>SUD COMOE</td>\n",
              "      <td>NaN</td>\n",
              "      <td>69bdfc69fd</td>\n",
              "      <td>8a1e6ce31f</td>\n",
              "    </tr>\n",
              "    <tr>\n",
              "      <th>4</th>\n",
              "      <td>4</td>\n",
              "      <td>ASSINIE</td>\n",
              "      <td>In Service</td>\n",
              "      <td>INTERIEUR</td>\n",
              "      <td>Grand-EST</td>\n",
              "      <td>ASSINIE\"</td>\n",
              "      <td>-3.488467</td>\n",
              "      <td>5.158761</td>\n",
              "      <td>SUD COMOE</td>\n",
              "      <td>NaN</td>\n",
              "      <td>7a1029d2ab</td>\n",
              "      <td>8a1e6ce31f</td>\n",
              "    </tr>\n",
              "  </tbody>\n",
              "</table>\n",
              "</div>"
            ],
            "text/plain": [
              "   Unnamed: 0   VILLES      STATUS  ... AREA     CELL_ID   SITE_CODE\n",
              "0           0   ADJAME  In Service  ...  NaN  fbb2e75af3  0bb492ef17\n",
              "1           1   ADJAME  In Service  ...  NaN  1502501d78  0bb492ef17\n",
              "2           2   ADJAME  In Service  ...  NaN  0c2e182a0c  0bb492ef17\n",
              "3           3  ASSINIE  In Service  ...  NaN  69bdfc69fd  8a1e6ce31f\n",
              "4           4  ASSINIE  In Service  ...  NaN  7a1029d2ab  8a1e6ce31f\n",
              "\n",
              "[5 rows x 12 columns]"
            ]
          },
          "metadata": {
            "tags": []
          },
          "execution_count": 7
        }
      ]
    },
    {
      "cell_type": "code",
      "metadata": {
        "id": "p7cjw5M9TzZn",
        "colab_type": "code",
        "colab": {
          "base_uri": "https://localhost:8080/",
          "height": 132
        },
        "outputId": "0bbebd5d-99ed-446d-e0f7-b02843099410"
      },
      "source": [
        "dt = pd.read_csv('cells_geo.csv', delimiter = ';')\n",
        "dt.head()\n",
        "def function_1(val_1, value_11):\n",
        "  return val_1\n",
        "   # before retuning the values, we convert the first values into a string because values in one column are strings\n",
        "dt['col_a'] = dt.apply(lambda row: function_1(row['VILLES'], row['SITE_CODE']) axis=1)\n",
        "dt"
      ],
      "execution_count": 10,
      "outputs": [
        {
          "output_type": "error",
          "ename": "SyntaxError",
          "evalue": "ignored",
          "traceback": [
            "\u001b[0;36m  File \u001b[0;32m\"<ipython-input-10-c74b4a3b2e6c>\"\u001b[0;36m, line \u001b[0;32m6\u001b[0m\n\u001b[0;31m    dt['col_a'] = dt.apply(lambda row: function_1(row['VILLES'], row['SITE_CODE']) axis=1)\u001b[0m\n\u001b[0m                                                                                      ^\u001b[0m\n\u001b[0;31mSyntaxError\u001b[0m\u001b[0;31m:\u001b[0m invalid syntax\n"
          ]
        }
      ]
    },
    {
      "cell_type": "code",
      "metadata": {
        "id": "u7kS8Uykns9f",
        "colab_type": "code",
        "outputId": "a61bd66f-67d7-4b39-c3a2-6fb936b8ad94",
        "colab": {
          "base_uri": "https://localhost:8080/",
          "height": 406
        }
      },
      "source": [
        "# join the three datasets representing data for the three days\n",
        "\n",
        "dt1 = pd.read_csv('Telcom_dataset.csv')\n",
        "dt1 = pd.DataFrame(dt1)\n",
        "\n",
        "# second data set\n",
        "\n",
        "dt2 = pd.read_csv('Telcom_dataset2.csv')\n",
        "dt2 = pd.DataFrame(dt2)\n",
        "\n",
        "# Third  data set\n",
        "\n",
        "dt3 = pd.read_csv('Telcom_dataset3.csv')\n",
        "dt3 = pd.DataFrame(dt3)\n",
        "\n",
        "# combining the three datasets to one table\n",
        " \n",
        "Frames = (dt1, dt2, dt3)\n",
        "dt_all = pd.concat(Frames)\n",
        "dt_all.head()\n",
        "\n",
        "# Deleting row with missing values\n",
        "\n",
        "dt_all2 = dt_all.dropna()\n",
        "dt_all2\n",
        "# Deleting\n",
        "#Removing rows with duplicates.\n",
        "\n",
        "dt_all3 = dt_all2.drop_duplicates()\n",
        "dt_all3\n",
        "\n",
        "#Drop row with no Geo-location identity.\n",
        "\n",
        "#dt_all3.drop(dt_all3[dt_all3['SITE_ID'] == #NAME?])\n",
        "\n",
        "#Dropping  columns not needed, 'CELL_ON_SITE', 'COUNTRY_A',\t'COUNTRY_B'\t\n",
        "\n",
        "dt_all3.drop (columns = ['CELL_ON_SITE', 'COUNTRY_A','COUNTRY_B'])\n",
        "\n",
        "\n",
        "\n"
      ],
      "execution_count": 0,
      "outputs": [
        {
          "output_type": "execute_result",
          "data": {
            "text/html": [
              "<div>\n",
              "<style scoped>\n",
              "    .dataframe tbody tr th:only-of-type {\n",
              "        vertical-align: middle;\n",
              "    }\n",
              "\n",
              "    .dataframe tbody tr th {\n",
              "        vertical-align: top;\n",
              "    }\n",
              "\n",
              "    .dataframe thead th {\n",
              "        text-align: right;\n",
              "    }\n",
              "</style>\n",
              "<table border=\"1\" class=\"dataframe\">\n",
              "  <thead>\n",
              "    <tr style=\"text-align: right;\">\n",
              "      <th></th>\n",
              "      <th>PRODUCT</th>\n",
              "      <th>VALUE</th>\n",
              "      <th>DATE_TIME</th>\n",
              "      <th>DW_A_NUMBER</th>\n",
              "      <th>DW_B_NUMBER</th>\n",
              "      <th>CELL_ID</th>\n",
              "      <th>SITE_ID</th>\n",
              "    </tr>\n",
              "  </thead>\n",
              "  <tbody>\n",
              "    <tr>\n",
              "      <th>0</th>\n",
              "      <td>Voice</td>\n",
              "      <td>51</td>\n",
              "      <td>01:10.0</td>\n",
              "      <td>61dec162494787f</td>\n",
              "      <td>43da90b5116256b</td>\n",
              "      <td>c81af4d7e5</td>\n",
              "      <td>449817786</td>\n",
              "    </tr>\n",
              "    <tr>\n",
              "      <th>2</th>\n",
              "      <td>Voice</td>\n",
              "      <td>2</td>\n",
              "      <td>00:21.0</td>\n",
              "      <td>f06b54f2580d490</td>\n",
              "      <td>245e7644b33c363</td>\n",
              "      <td>5139351fad</td>\n",
              "      <td>1113359465</td>\n",
              "    </tr>\n",
              "    <tr>\n",
              "      <th>3</th>\n",
              "      <td>Voice</td>\n",
              "      <td>40</td>\n",
              "      <td>00:22.0</td>\n",
              "      <td>002b06898605b3b</td>\n",
              "      <td>a5cc83245351838</td>\n",
              "      <td>5139351fad</td>\n",
              "      <td>1113359465</td>\n",
              "    </tr>\n",
              "    <tr>\n",
              "      <th>4</th>\n",
              "      <td>Voice</td>\n",
              "      <td>30</td>\n",
              "      <td>00:24.0</td>\n",
              "      <td>93b031f37d83b4e</td>\n",
              "      <td>863bcd3952cca84</td>\n",
              "      <td>5139351fad</td>\n",
              "      <td>1113359465</td>\n",
              "    </tr>\n",
              "    <tr>\n",
              "      <th>5</th>\n",
              "      <td>Voice</td>\n",
              "      <td>15</td>\n",
              "      <td>00:26.0</td>\n",
              "      <td>1faa949189f5169</td>\n",
              "      <td>8ab4721b68cbf2e</td>\n",
              "      <td>5139351fad</td>\n",
              "      <td>1113359465</td>\n",
              "    </tr>\n",
              "    <tr>\n",
              "      <th>...</th>\n",
              "      <td>...</td>\n",
              "      <td>...</td>\n",
              "      <td>...</td>\n",
              "      <td>...</td>\n",
              "      <td>...</td>\n",
              "      <td>...</td>\n",
              "      <td>...</td>\n",
              "    </tr>\n",
              "    <tr>\n",
              "      <th>4995</th>\n",
              "      <td>Voice</td>\n",
              "      <td>10</td>\n",
              "      <td>01:43.0</td>\n",
              "      <td>2f834987f0c1825</td>\n",
              "      <td>accc8e5c1164343</td>\n",
              "      <td>6467daa1db</td>\n",
              "      <td>8a96bae9c1</td>\n",
              "    </tr>\n",
              "    <tr>\n",
              "      <th>4996</th>\n",
              "      <td>Voice</td>\n",
              "      <td>0</td>\n",
              "      <td>01:43.0</td>\n",
              "      <td>467333ade2b4b9c</td>\n",
              "      <td>0ab2acd804d01fe</td>\n",
              "      <td>2aa04dcab7</td>\n",
              "      <td>f7d63a29e5</td>\n",
              "    </tr>\n",
              "    <tr>\n",
              "      <th>4997</th>\n",
              "      <td>Voice</td>\n",
              "      <td>62</td>\n",
              "      <td>01:43.0</td>\n",
              "      <td>e077a6b74c5053c</td>\n",
              "      <td>4c8098eb6ea1a41</td>\n",
              "      <td>7f1f2f889f</td>\n",
              "      <td>b4ddb9e93c</td>\n",
              "    </tr>\n",
              "    <tr>\n",
              "      <th>4999</th>\n",
              "      <td>Voice</td>\n",
              "      <td>30</td>\n",
              "      <td>01:43.0</td>\n",
              "      <td>672ce74c418aa7a</td>\n",
              "      <td>f9ff5af59cf0d68</td>\n",
              "      <td>98ed726da2</td>\n",
              "      <td>b4130b54ab</td>\n",
              "    </tr>\n",
              "    <tr>\n",
              "      <th>5000</th>\n",
              "      <td>Voice</td>\n",
              "      <td>60</td>\n",
              "      <td>01:43.0</td>\n",
              "      <td>6edeb4c55714650</td>\n",
              "      <td>7e60838216482a7</td>\n",
              "      <td>1c11a2fcbb</td>\n",
              "      <td>6d70dae094</td>\n",
              "    </tr>\n",
              "  </tbody>\n",
              "</table>\n",
              "<p>12775 rows × 7 columns</p>\n",
              "</div>"
            ],
            "text/plain": [
              "     PRODUCT  VALUE DATE_TIME  ...      DW_B_NUMBER     CELL_ID     SITE_ID\n",
              "0      Voice     51   01:10.0  ...  43da90b5116256b  c81af4d7e5   449817786\n",
              "2      Voice      2   00:21.0  ...  245e7644b33c363  5139351fad  1113359465\n",
              "3      Voice     40   00:22.0  ...  a5cc83245351838  5139351fad  1113359465\n",
              "4      Voice     30   00:24.0  ...  863bcd3952cca84  5139351fad  1113359465\n",
              "5      Voice     15   00:26.0  ...  8ab4721b68cbf2e  5139351fad  1113359465\n",
              "...      ...    ...       ...  ...              ...         ...         ...\n",
              "4995   Voice     10   01:43.0  ...  accc8e5c1164343  6467daa1db  8a96bae9c1\n",
              "4996   Voice      0   01:43.0  ...  0ab2acd804d01fe  2aa04dcab7  f7d63a29e5\n",
              "4997   Voice     62   01:43.0  ...  4c8098eb6ea1a41  7f1f2f889f  b4ddb9e93c\n",
              "4999   Voice     30   01:43.0  ...  f9ff5af59cf0d68  98ed726da2  b4130b54ab\n",
              "5000   Voice     60   01:43.0  ...  7e60838216482a7  1c11a2fcbb  6d70dae094\n",
              "\n",
              "[12775 rows x 7 columns]"
            ]
          },
          "metadata": {
            "tags": []
          },
          "execution_count": 72
        }
      ]
    },
    {
      "cell_type": "code",
      "metadata": {
        "id": "tYEdqIaVtmfe",
        "colab_type": "code",
        "outputId": "dbfa5f0c-867c-436d-9df2-91e8a37960df",
        "colab": {
          "base_uri": "https://localhost:8080/",
          "height": 247
        }
      },
      "source": [
        "#Finding the most geo site with most active users\n",
        "\n",
        "dt_all4 = dt_all3.groupby(['SITE_ID'])['SITE_ID'].count()\n",
        "dt_all4.sort_values( ascending=False)\n",
        "\n"
      ],
      "execution_count": 0,
      "outputs": [
        {
          "output_type": "execute_result",
          "data": {
            "text/plain": [
              "SITE_ID\n",
              "7f76d66503    101\n",
              "b47a998a3e     98\n",
              "#NAME?         91\n",
              "a7bd4c027b     79\n",
              "5c565fbfb1     75\n",
              "             ... \n",
              "22d3978f25      1\n",
              "RKmoAGwk+M      1\n",
              "228ccfcacc      1\n",
              "RRF4SIW9BU      1\n",
              "910494ebd6      1\n",
              "Name: SITE_ID, Length: 1346, dtype: int64"
            ]
          },
          "metadata": {
            "tags": []
          },
          "execution_count": 69
        }
      ]
    },
    {
      "cell_type": "code",
      "metadata": {
        "id": "HDVzZPpfhUAq",
        "colab_type": "code",
        "outputId": "c2b416f2-b061-45e7-cbc7-895538d31735",
        "colab": {
          "base_uri": "https://localhost:8080/",
          "height": 247
        }
      },
      "source": [
        "# to find out the most valuable Geo_site \n",
        "\n",
        "dt_all4 = dt_all3.groupby(['SITE_ID'])['VALUE'].sum()\n",
        "dt_all4.sort_values( ascending=False)\n"
      ],
      "execution_count": 0,
      "outputs": [
        {
          "output_type": "execute_result",
          "data": {
            "text/plain": [
              "SITE_ID\n",
              "a64fc672f1    6929\n",
              "MpOhP3OKNN    4225\n",
              "2e828e607c    3662\n",
              "5324bc6c24    3357\n",
              "969b8d0e39    3309\n",
              "              ... \n",
              "955UPZQ91o       0\n",
              "S028cV4N6t       0\n",
              "S9cj3XAIWZ       0\n",
              "1ad24d2151       0\n",
              "P+LjgI3gTb       0\n",
              "Name: VALUE, Length: 1346, dtype: int64"
            ]
          },
          "metadata": {
            "tags": []
          },
          "execution_count": 75
        }
      ]
    },
    {
      "cell_type": "code",
      "metadata": {
        "id": "w09Cl0fYjyyO",
        "colab_type": "code",
        "outputId": "f27b2180-3ca1-4ae1-f283-416f0e687952",
        "colab": {
          "base_uri": "https://localhost:8080/",
          "height": 105
        }
      },
      "source": [
        "# To find out the most valuable product for MTN\n",
        "\n",
        "dt_all4 = dt_all3.groupby(['PRODUCT'])['VALUE'].sum()\n",
        "dt_all4.sort_values( ascending=False)"
      ],
      "execution_count": 0,
      "outputs": [
        {
          "output_type": "execute_result",
          "data": {
            "text/plain": [
              "PRODUCT\n",
              "Voice    293816\n",
              "sms       52352\n",
              "data       2001\n",
              "Name: VALUE, dtype: int64"
            ]
          },
          "metadata": {
            "tags": []
          },
          "execution_count": 76
        }
      ]
    },
    {
      "cell_type": "code",
      "metadata": {
        "id": "lfFkoK69yHZ0",
        "colab_type": "code",
        "outputId": "127d79f0-d221-4dd2-fd83-f7183fcf0a1b",
        "colab": {
          "base_uri": "https://localhost:8080/",
          "height": 247
        }
      },
      "source": [
        "# To find out the most valuable product by geo-location\n",
        "\n",
        "dt_all5 = dt_all3.groupby(['SITE_ID', 'PRODUCT'])['VALUE'].sum()\n",
        "dt_all5\n",
        "\n",
        "\n"
      ],
      "execution_count": 0,
      "outputs": [
        {
          "output_type": "execute_result",
          "data": {
            "text/plain": [
              "SITE_ID     PRODUCT\n",
              "#NAME?      Voice      355\n",
              "            data         1\n",
              "            sms        125\n",
              "+38u2u/rfx  Voice      222\n",
              "            data        25\n",
              "                      ... \n",
              "ff1b78ec81  sms         50\n",
              "ffa6bdc032  Voice      374\n",
              "            sms        125\n",
              "ffc9f56819  Voice      177\n",
              "fff5ac6e3f  Voice       28\n",
              "Name: VALUE, Length: 2467, dtype: int64"
            ]
          },
          "metadata": {
            "tags": []
          },
          "execution_count": 82
        }
      ]
    },
    {
      "cell_type": "code",
      "metadata": {
        "id": "KDvQdT8o0W7I",
        "colab_type": "code",
        "colab": {}
      },
      "source": [
        ""
      ],
      "execution_count": 0,
      "outputs": []
    }
  ]
}