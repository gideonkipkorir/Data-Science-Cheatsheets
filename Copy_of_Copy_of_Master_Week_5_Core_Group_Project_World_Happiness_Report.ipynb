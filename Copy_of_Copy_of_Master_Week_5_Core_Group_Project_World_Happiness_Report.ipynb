{
  "nbformat": 4,
  "nbformat_minor": 0,
  "metadata": {
    "kernelspec": {
      "display_name": "Python 3",
      "language": "python",
      "name": "python3"
    },
    "language_info": {
      "codemirror_mode": {
        "name": "ipython",
        "version": 3
      },
      "file_extension": ".py",
      "mimetype": "text/x-python",
      "name": "python",
      "nbconvert_exporter": "python",
      "pygments_lexer": "ipython3",
      "version": "3.6.3"
    },
    "colab": {
      "name": "Copy of Copy of Master - Week 5 Core Group Project - World Happiness Report",
      "provenance": [],
      "collapsed_sections": [
        "KCo9jMiY7zud",
        "CQeVYeUs7zuf",
        "rFGZKWCI7zui",
        "rGtdLfbG7zup",
        "uzro00Ak7zu4",
        "QAeeuC-n7zu-"
      ],
      "toc_visible": true,
      "include_colab_link": true
    }
  },
  "cells": [
    {
      "cell_type": "markdown",
      "metadata": {
        "id": "view-in-github",
        "colab_type": "text"
      },
      "source": [
        "<a href=\"https://colab.research.google.com/github/pkor725/Data-Science-independent-projects/blob/master/Copy_of_Copy_of_Master_Week_5_Core_Group_Project_World_Happiness_Report.ipynb\" target=\"_parent\"><img src=\"https://colab.research.google.com/assets/colab-badge.svg\" alt=\"Open In Colab\"/></a>"
      ]
    },
    {
      "cell_type": "markdown",
      "metadata": {
        "id": "02NYlauf7zpV",
        "colab_type": "text"
      },
      "source": [
        "# World Happiness Report\n",
        "\n",
        "## Requirement\n",
        "1. Find and deal with outliers, anomalies, and missing data within the dataset.\n",
        "\n",
        "2. Plot appropriate univariate and bivariate summaries recording our observations.\n",
        "\n",
        "3. Implement the solution by performing hypothesis testing.\n"
      ]
    },
    {
      "cell_type": "markdown",
      "metadata": {
        "id": "oTanxuzR7zpc",
        "colab_type": "text"
      },
      "source": [
        "## 1.0 Import Libraries and Data"
      ]
    },
    {
      "cell_type": "code",
      "metadata": {
        "id": "YncM410Z7zpe",
        "colab_type": "code",
        "colab": {}
      },
      "source": [
        "#Import Python Libraries\n",
        "import pandas as pd\n",
        "import numpy as np\n",
        "import matplotlib.pyplot as plt\n",
        "import seaborn as sns\n",
        "from scipy import stats #For z test Calculation\n",
        "from statsmodels.stats import weightstats as stests #For z test calculation\n",
        "# import pandas_profiling as pp\n",
        "import warnings\n",
        "warnings.simplefilter(action='ignore', category=FutureWarning)"
      ],
      "execution_count": 0,
      "outputs": []
    },
    {
      "cell_type": "code",
      "metadata": {
        "id": "9bZ3YfTX7zpm",
        "colab_type": "code",
        "colab": {}
      },
      "source": [
        "#Increase number of rows and columns displayed\n",
        "pd.set_option('display.max_rows', 500)\n",
        "pd.set_option('display.max_columns', 500)\n",
        "pd.set_option('display.width', 1000)"
      ],
      "execution_count": 0,
      "outputs": []
    },
    {
      "cell_type": "code",
      "metadata": {
        "id": "9Fl7oBBS7zpw",
        "colab_type": "code",
        "colab": {}
      },
      "source": [
        "#Import data\n",
        "df_2015 = pd.read_csv(\"2015.csv\")\n",
        "df_2016 = pd.read_csv(\"2016.csv\")\n",
        "df_2017 = pd.read_csv(\"2017.csv\")\n",
        "df_2018 = pd.read_csv(\"2018.csv\")\n",
        "df_2019 = pd.read_csv(\"2019.csv\")"
      ],
      "execution_count": 0,
      "outputs": []
    },
    {
      "cell_type": "markdown",
      "metadata": {
        "id": "azny88h5OL6o",
        "colab_type": "text"
      },
      "source": [
        "## 2.0 Exploring the Data"
      ]
    },
    {
      "cell_type": "markdown",
      "metadata": {
        "id": "4Fm0ljupOrxr",
        "colab_type": "text"
      },
      "source": [
        "### 2.1 Merging the Dataframes"
      ]
    },
    {
      "cell_type": "code",
      "metadata": {
        "id": "yzX7nInqGByt",
        "colab_type": "code",
        "outputId": "05a1bf52-8955-4898-dd33-668555ef427f",
        "colab": {
          "base_uri": "https://localhost:8080/",
          "height": 124
        }
      },
      "source": [
        "#Checking that the columns are the same to merge the dataframes\n",
        "print(df_2015.columns)\n",
        "print(df_2016.columns)\n",
        "print(df_2017.columns)\n",
        "print(df_2018.columns)\n",
        "print(df_2019.columns)"
      ],
      "execution_count": 0,
      "outputs": [
        {
          "output_type": "stream",
          "text": [
            "Index(['Country', 'Region', 'Happiness Rank', 'Happiness Score', 'Standard Error', 'Economy (GDP per Capita)', 'Family', 'Health (Life Expectancy)', 'Freedom', 'Trust (Government Corruption)', 'Generosity', 'Dystopia Residual'], dtype='object')\n",
            "Index(['Country', 'Region', 'Happiness Rank', 'Happiness Score', 'Lower Confidence Interval', 'Upper Confidence Interval', 'Economy (GDP per Capita)', 'Family', 'Health (Life Expectancy)', 'Freedom', 'Trust (Government Corruption)', 'Generosity', 'Dystopia Residual'], dtype='object')\n",
            "Index(['Country', 'Happiness.Rank', 'Happiness.Score', 'Whisker.high', 'Whisker.low', 'Economy..GDP.per.Capita.', 'Family', 'Health..Life.Expectancy.', 'Freedom', 'Generosity', 'Trust..Government.Corruption.', 'Dystopia.Residual'], dtype='object')\n",
            "Index(['Overall rank', 'Country or region', 'Score', 'GDP per capita', 'Social support', 'Healthy life expectancy', 'Freedom to make life choices', 'Generosity', 'Perceptions of corruption'], dtype='object')\n",
            "Index(['Overall rank', 'Country or region', 'Score', 'GDP per capita', 'Social support', 'Healthy life expectancy', 'Freedom to make life choices', 'Generosity', 'Perceptions of corruption'], dtype='object')\n"
          ],
          "name": "stdout"
        }
      ]
    },
    {
      "cell_type": "code",
      "metadata": {
        "id": "A-VNONXGB5sO",
        "colab_type": "code",
        "colab": {}
      },
      "source": [
        "#Dropping unnecessary columns\n",
        "df_2015.drop(columns=['Standard Error', 'Region', 'Dystopia Residual'], inplace=True)\n",
        "df_2016.drop(columns=['Lower Confidence Interval', 'Upper Confidence Interval', 'Region', 'Dystopia Residual'], inplace=True)\n",
        "df_2017.drop(columns=['Whisker.high', 'Whisker.low', 'Dystopia.Residual'], inplace=True)"
      ],
      "execution_count": 0,
      "outputs": []
    },
    {
      "cell_type": "code",
      "metadata": {
        "id": "oWYtM7doFNAd",
        "colab_type": "code",
        "colab": {}
      },
      "source": [
        "#Changing the order of 2017 dataframe\n",
        "df_2017 = df_2017[['Country', 'Happiness.Rank', 'Happiness.Score', 'Economy..GDP.per.Capita.', 'Family', 'Health..Life.Expectancy.', 'Freedom', 'Trust..Government.Corruption.', 'Generosity']]"
      ],
      "execution_count": 0,
      "outputs": []
    },
    {
      "cell_type": "code",
      "metadata": {
        "id": "C6o0QpNrDb0r",
        "colab_type": "code",
        "colab": {}
      },
      "source": [
        "#Adding a column with the year of data collection\n",
        "df_2015['Year'] = 2015\n",
        "df_2016['Year'] = 2016\n",
        "df_2017['Year'] = 2017\n",
        "df_2018['Year'] = 2018\n",
        "df_2019['Year'] = 2019"
      ],
      "execution_count": 0,
      "outputs": []
    },
    {
      "cell_type": "code",
      "metadata": {
        "id": "s-sxjuf9JfTP",
        "colab_type": "code",
        "colab": {}
      },
      "source": [
        "df_2015 = df_2015[['Happiness Rank', 'Country', 'Happiness Score', 'Economy (GDP per Capita)', 'Family', 'Health (Life Expectancy)', 'Freedom','Generosity', 'Trust (Government Corruption)', 'Year']]\n",
        "df_2016 = df_2016[['Happiness Rank', 'Country', 'Happiness Score', 'Economy (GDP per Capita)', 'Family', 'Health (Life Expectancy)', 'Freedom','Generosity', 'Trust (Government Corruption)', 'Year']]\n",
        "df_2017 = df_2017[['Happiness.Rank', 'Country', 'Happiness.Score', 'Economy..GDP.per.Capita.', 'Family', 'Health..Life.Expectancy.', 'Freedom','Generosity', 'Trust..Government.Corruption.', 'Year']]"
      ],
      "execution_count": 0,
      "outputs": []
    },
    {
      "cell_type": "code",
      "metadata": {
        "id": "qDh0KQQ2K4n9",
        "colab_type": "code",
        "colab": {}
      },
      "source": [
        "df_2015.columns = ['Overall rank', 'Country or region', 'Score', 'GDP per capita', 'Social support', 'Healthy life expectancy', 'Freedom to make life choices', 'Generosity', 'Perceptions of corruption', 'Year']\n",
        "df_2016.columns = ['Overall rank', 'Country or region', 'Score', 'GDP per capita', 'Social support', 'Healthy life expectancy', 'Freedom to make life choices', 'Generosity', 'Perceptions of corruption', 'Year']\n",
        "df_2017.columns = ['Overall rank', 'Country or region', 'Score', 'GDP per capita', 'Social support', 'Healthy life expectancy', 'Freedom to make life choices', 'Generosity', 'Perceptions of corruption', 'Year']"
      ],
      "execution_count": 0,
      "outputs": []
    },
    {
      "cell_type": "code",
      "metadata": {
        "id": "MsxW1n_5Cy4C",
        "colab_type": "code",
        "outputId": "7a1cb113-e202-4dc7-8712-de1f6d15a115",
        "colab": {
          "base_uri": "https://localhost:8080/",
          "height": 124
        }
      },
      "source": [
        "#Checking the column names\n",
        "print(df_2015.columns)\n",
        "print(df_2016.columns)\n",
        "print(df_2017.columns)\n",
        "print(df_2018.columns)\n",
        "print(df_2019.columns)"
      ],
      "execution_count": 0,
      "outputs": [
        {
          "output_type": "stream",
          "text": [
            "Index(['Overall rank', 'Country or region', 'Score', 'GDP per capita', 'Social support', 'Healthy life expectancy', 'Freedom to make life choices', 'Generosity', 'Perceptions of corruption', 'Year'], dtype='object')\n",
            "Index(['Overall rank', 'Country or region', 'Score', 'GDP per capita', 'Social support', 'Healthy life expectancy', 'Freedom to make life choices', 'Generosity', 'Perceptions of corruption', 'Year'], dtype='object')\n",
            "Index(['Overall rank', 'Country or region', 'Score', 'GDP per capita', 'Social support', 'Healthy life expectancy', 'Freedom to make life choices', 'Generosity', 'Perceptions of corruption', 'Year'], dtype='object')\n",
            "Index(['Overall rank', 'Country or region', 'Score', 'GDP per capita', 'Social support', 'Healthy life expectancy', 'Freedom to make life choices', 'Generosity', 'Perceptions of corruption', 'Year'], dtype='object')\n",
            "Index(['Overall rank', 'Country or region', 'Score', 'GDP per capita', 'Social support', 'Healthy life expectancy', 'Freedom to make life choices', 'Generosity', 'Perceptions of corruption', 'Year'], dtype='object')\n"
          ],
          "name": "stdout"
        }
      ]
    },
    {
      "cell_type": "code",
      "metadata": {
        "id": "rPpMDyAs-okU",
        "colab_type": "code",
        "outputId": "5235f8a4-f5a3-4634-da3e-5865c7341ba4",
        "colab": {
          "base_uri": "https://localhost:8080/",
          "height": 202
        }
      },
      "source": [
        "# Merging the data\n",
        "df_all = pd.concat([df_2015, df_2016, df_2017, df_2018, df_2019])\n",
        "df_all.head()"
      ],
      "execution_count": 0,
      "outputs": [
        {
          "output_type": "execute_result",
          "data": {
            "text/html": [
              "<div>\n",
              "<style scoped>\n",
              "    .dataframe tbody tr th:only-of-type {\n",
              "        vertical-align: middle;\n",
              "    }\n",
              "\n",
              "    .dataframe tbody tr th {\n",
              "        vertical-align: top;\n",
              "    }\n",
              "\n",
              "    .dataframe thead th {\n",
              "        text-align: right;\n",
              "    }\n",
              "</style>\n",
              "<table border=\"1\" class=\"dataframe\">\n",
              "  <thead>\n",
              "    <tr style=\"text-align: right;\">\n",
              "      <th></th>\n",
              "      <th>Overall rank</th>\n",
              "      <th>Country or region</th>\n",
              "      <th>Score</th>\n",
              "      <th>GDP per capita</th>\n",
              "      <th>Social support</th>\n",
              "      <th>Healthy life expectancy</th>\n",
              "      <th>Freedom to make life choices</th>\n",
              "      <th>Generosity</th>\n",
              "      <th>Perceptions of corruption</th>\n",
              "      <th>Year</th>\n",
              "    </tr>\n",
              "  </thead>\n",
              "  <tbody>\n",
              "    <tr>\n",
              "      <th>0</th>\n",
              "      <td>1</td>\n",
              "      <td>Switzerland</td>\n",
              "      <td>7.587</td>\n",
              "      <td>1.39651</td>\n",
              "      <td>1.34951</td>\n",
              "      <td>0.94143</td>\n",
              "      <td>0.66557</td>\n",
              "      <td>0.29678</td>\n",
              "      <td>0.41978</td>\n",
              "      <td>2015</td>\n",
              "    </tr>\n",
              "    <tr>\n",
              "      <th>1</th>\n",
              "      <td>2</td>\n",
              "      <td>Iceland</td>\n",
              "      <td>7.561</td>\n",
              "      <td>1.30232</td>\n",
              "      <td>1.40223</td>\n",
              "      <td>0.94784</td>\n",
              "      <td>0.62877</td>\n",
              "      <td>0.43630</td>\n",
              "      <td>0.14145</td>\n",
              "      <td>2015</td>\n",
              "    </tr>\n",
              "    <tr>\n",
              "      <th>2</th>\n",
              "      <td>3</td>\n",
              "      <td>Denmark</td>\n",
              "      <td>7.527</td>\n",
              "      <td>1.32548</td>\n",
              "      <td>1.36058</td>\n",
              "      <td>0.87464</td>\n",
              "      <td>0.64938</td>\n",
              "      <td>0.34139</td>\n",
              "      <td>0.48357</td>\n",
              "      <td>2015</td>\n",
              "    </tr>\n",
              "    <tr>\n",
              "      <th>3</th>\n",
              "      <td>4</td>\n",
              "      <td>Norway</td>\n",
              "      <td>7.522</td>\n",
              "      <td>1.45900</td>\n",
              "      <td>1.33095</td>\n",
              "      <td>0.88521</td>\n",
              "      <td>0.66973</td>\n",
              "      <td>0.34699</td>\n",
              "      <td>0.36503</td>\n",
              "      <td>2015</td>\n",
              "    </tr>\n",
              "    <tr>\n",
              "      <th>4</th>\n",
              "      <td>5</td>\n",
              "      <td>Canada</td>\n",
              "      <td>7.427</td>\n",
              "      <td>1.32629</td>\n",
              "      <td>1.32261</td>\n",
              "      <td>0.90563</td>\n",
              "      <td>0.63297</td>\n",
              "      <td>0.45811</td>\n",
              "      <td>0.32957</td>\n",
              "      <td>2015</td>\n",
              "    </tr>\n",
              "  </tbody>\n",
              "</table>\n",
              "</div>"
            ],
            "text/plain": [
              "   Overall rank Country or region  Score  GDP per capita  Social support  Healthy life expectancy  Freedom to make life choices  Generosity  Perceptions of corruption  Year\n",
              "0             1       Switzerland  7.587         1.39651         1.34951                  0.94143                       0.66557     0.29678                    0.41978  2015\n",
              "1             2           Iceland  7.561         1.30232         1.40223                  0.94784                       0.62877     0.43630                    0.14145  2015\n",
              "2             3           Denmark  7.527         1.32548         1.36058                  0.87464                       0.64938     0.34139                    0.48357  2015\n",
              "3             4            Norway  7.522         1.45900         1.33095                  0.88521                       0.66973     0.34699                    0.36503  2015\n",
              "4             5            Canada  7.427         1.32629         1.32261                  0.90563                       0.63297     0.45811                    0.32957  2015"
            ]
          },
          "metadata": {
            "tags": []
          },
          "execution_count": 155
        }
      ]
    },
    {
      "cell_type": "markdown",
      "metadata": {
        "id": "WUpdOdBp7zp2",
        "colab_type": "text"
      },
      "source": [
        "### 2.1 Data Understanding"
      ]
    },
    {
      "cell_type": "code",
      "metadata": {
        "id": "SGGGelb27zp4",
        "colab_type": "code",
        "outputId": "2d4417b7-8d9a-496b-a88d-fb5d5450758e",
        "colab": {
          "base_uri": "https://localhost:8080/",
          "height": 373
        }
      },
      "source": [
        "#Check sample data\n",
        "df_all.sample(10)"
      ],
      "execution_count": 0,
      "outputs": [
        {
          "output_type": "execute_result",
          "data": {
            "text/html": [
              "<div>\n",
              "<style scoped>\n",
              "    .dataframe tbody tr th:only-of-type {\n",
              "        vertical-align: middle;\n",
              "    }\n",
              "\n",
              "    .dataframe tbody tr th {\n",
              "        vertical-align: top;\n",
              "    }\n",
              "\n",
              "    .dataframe thead th {\n",
              "        text-align: right;\n",
              "    }\n",
              "</style>\n",
              "<table border=\"1\" class=\"dataframe\">\n",
              "  <thead>\n",
              "    <tr style=\"text-align: right;\">\n",
              "      <th></th>\n",
              "      <th>Overall rank</th>\n",
              "      <th>Country or region</th>\n",
              "      <th>Score</th>\n",
              "      <th>GDP per capita</th>\n",
              "      <th>Social support</th>\n",
              "      <th>Healthy life expectancy</th>\n",
              "      <th>Freedom to make life choices</th>\n",
              "      <th>Generosity</th>\n",
              "      <th>Perceptions of corruption</th>\n",
              "      <th>Year</th>\n",
              "    </tr>\n",
              "  </thead>\n",
              "  <tbody>\n",
              "    <tr>\n",
              "      <th>93</th>\n",
              "      <td>94</td>\n",
              "      <td>Portugal</td>\n",
              "      <td>5.123</td>\n",
              "      <td>1.276070</td>\n",
              "      <td>0.943670</td>\n",
              "      <td>0.793630</td>\n",
              "      <td>0.447270</td>\n",
              "      <td>0.116910</td>\n",
              "      <td>0.015210</td>\n",
              "      <td>2016</td>\n",
              "    </tr>\n",
              "    <tr>\n",
              "      <th>6</th>\n",
              "      <td>7</td>\n",
              "      <td>Sweden</td>\n",
              "      <td>7.343</td>\n",
              "      <td>1.387000</td>\n",
              "      <td>1.487000</td>\n",
              "      <td>1.009000</td>\n",
              "      <td>0.574000</td>\n",
              "      <td>0.267000</td>\n",
              "      <td>0.373000</td>\n",
              "      <td>2019</td>\n",
              "    </tr>\n",
              "    <tr>\n",
              "      <th>152</th>\n",
              "      <td>153</td>\n",
              "      <td>Benin</td>\n",
              "      <td>3.484</td>\n",
              "      <td>0.394990</td>\n",
              "      <td>0.104190</td>\n",
              "      <td>0.210280</td>\n",
              "      <td>0.397470</td>\n",
              "      <td>0.201800</td>\n",
              "      <td>0.066810</td>\n",
              "      <td>2016</td>\n",
              "    </tr>\n",
              "    <tr>\n",
              "      <th>53</th>\n",
              "      <td>54</td>\n",
              "      <td>Latvia</td>\n",
              "      <td>5.850</td>\n",
              "      <td>1.260749</td>\n",
              "      <td>1.404715</td>\n",
              "      <td>0.638567</td>\n",
              "      <td>0.325708</td>\n",
              "      <td>0.153075</td>\n",
              "      <td>0.073843</td>\n",
              "      <td>2017</td>\n",
              "    </tr>\n",
              "    <tr>\n",
              "      <th>143</th>\n",
              "      <td>144</td>\n",
              "      <td>Chad</td>\n",
              "      <td>3.763</td>\n",
              "      <td>0.422140</td>\n",
              "      <td>0.631780</td>\n",
              "      <td>0.038240</td>\n",
              "      <td>0.128070</td>\n",
              "      <td>0.186670</td>\n",
              "      <td>0.049520</td>\n",
              "      <td>2016</td>\n",
              "    </tr>\n",
              "    <tr>\n",
              "      <th>126</th>\n",
              "      <td>127</td>\n",
              "      <td>Congo (Kinshasa)</td>\n",
              "      <td>4.418</td>\n",
              "      <td>0.094000</td>\n",
              "      <td>1.125000</td>\n",
              "      <td>0.357000</td>\n",
              "      <td>0.269000</td>\n",
              "      <td>0.212000</td>\n",
              "      <td>0.053000</td>\n",
              "      <td>2019</td>\n",
              "    </tr>\n",
              "    <tr>\n",
              "      <th>27</th>\n",
              "      <td>28</td>\n",
              "      <td>Qatar</td>\n",
              "      <td>6.611</td>\n",
              "      <td>1.690420</td>\n",
              "      <td>1.078600</td>\n",
              "      <td>0.797330</td>\n",
              "      <td>0.640400</td>\n",
              "      <td>0.325730</td>\n",
              "      <td>0.522080</td>\n",
              "      <td>2015</td>\n",
              "    </tr>\n",
              "    <tr>\n",
              "      <th>76</th>\n",
              "      <td>77</td>\n",
              "      <td>Kosovo</td>\n",
              "      <td>5.401</td>\n",
              "      <td>0.901450</td>\n",
              "      <td>0.660620</td>\n",
              "      <td>0.540000</td>\n",
              "      <td>0.143960</td>\n",
              "      <td>0.279920</td>\n",
              "      <td>0.065470</td>\n",
              "      <td>2016</td>\n",
              "    </tr>\n",
              "    <tr>\n",
              "      <th>20</th>\n",
              "      <td>21</td>\n",
              "      <td>Czech Republic</td>\n",
              "      <td>6.711</td>\n",
              "      <td>1.233000</td>\n",
              "      <td>1.489000</td>\n",
              "      <td>0.854000</td>\n",
              "      <td>0.543000</td>\n",
              "      <td>0.064000</td>\n",
              "      <td>0.034000</td>\n",
              "      <td>2018</td>\n",
              "    </tr>\n",
              "    <tr>\n",
              "      <th>15</th>\n",
              "      <td>16</td>\n",
              "      <td>Germany</td>\n",
              "      <td>6.951</td>\n",
              "      <td>1.487923</td>\n",
              "      <td>1.472520</td>\n",
              "      <td>0.798951</td>\n",
              "      <td>0.562511</td>\n",
              "      <td>0.336269</td>\n",
              "      <td>0.276732</td>\n",
              "      <td>2017</td>\n",
              "    </tr>\n",
              "  </tbody>\n",
              "</table>\n",
              "</div>"
            ],
            "text/plain": [
              "     Overall rank Country or region  Score  GDP per capita  Social support  Healthy life expectancy  Freedom to make life choices  Generosity  Perceptions of corruption  Year\n",
              "93             94          Portugal  5.123        1.276070        0.943670                 0.793630                      0.447270    0.116910                   0.015210  2016\n",
              "6               7            Sweden  7.343        1.387000        1.487000                 1.009000                      0.574000    0.267000                   0.373000  2019\n",
              "152           153             Benin  3.484        0.394990        0.104190                 0.210280                      0.397470    0.201800                   0.066810  2016\n",
              "53             54            Latvia  5.850        1.260749        1.404715                 0.638567                      0.325708    0.153075                   0.073843  2017\n",
              "143           144              Chad  3.763        0.422140        0.631780                 0.038240                      0.128070    0.186670                   0.049520  2016\n",
              "126           127  Congo (Kinshasa)  4.418        0.094000        1.125000                 0.357000                      0.269000    0.212000                   0.053000  2019\n",
              "27             28             Qatar  6.611        1.690420        1.078600                 0.797330                      0.640400    0.325730                   0.522080  2015\n",
              "76             77            Kosovo  5.401        0.901450        0.660620                 0.540000                      0.143960    0.279920                   0.065470  2016\n",
              "20             21    Czech Republic  6.711        1.233000        1.489000                 0.854000                      0.543000    0.064000                   0.034000  2018\n",
              "15             16           Germany  6.951        1.487923        1.472520                 0.798951                      0.562511    0.336269                   0.276732  2017"
            ]
          },
          "metadata": {
            "tags": []
          },
          "execution_count": 156
        }
      ]
    },
    {
      "cell_type": "code",
      "metadata": {
        "id": "ht682NVQ7zp9",
        "colab_type": "code",
        "outputId": "711b0c0c-661b-4afb-c36e-3469fb126aad",
        "colab": {
          "base_uri": "https://localhost:8080/",
          "height": 34
        }
      },
      "source": [
        "df_all.shape"
      ],
      "execution_count": 0,
      "outputs": [
        {
          "output_type": "execute_result",
          "data": {
            "text/plain": [
              "(782, 10)"
            ]
          },
          "metadata": {
            "tags": []
          },
          "execution_count": 157
        }
      ]
    },
    {
      "cell_type": "markdown",
      "metadata": {
        "id": "JUvGISdH7zqD",
        "colab_type": "text"
      },
      "source": [
        "Dataset has 782 rows and 10 columns"
      ]
    },
    {
      "cell_type": "code",
      "metadata": {
        "id": "q8jpLR737zqG",
        "colab_type": "code",
        "outputId": "56e51b34-5ffe-4b21-cc03-e094288c13d3",
        "colab": {
          "base_uri": "https://localhost:8080/",
          "height": 277
        }
      },
      "source": [
        "#Explore the column data types\n",
        "df_all.info()"
      ],
      "execution_count": 0,
      "outputs": [
        {
          "output_type": "stream",
          "text": [
            "<class 'pandas.core.frame.DataFrame'>\n",
            "Int64Index: 782 entries, 0 to 155\n",
            "Data columns (total 10 columns):\n",
            "Overall rank                    782 non-null int64\n",
            "Country or region               782 non-null object\n",
            "Score                           782 non-null float64\n",
            "GDP per capita                  782 non-null float64\n",
            "Social support                  782 non-null float64\n",
            "Healthy life expectancy         782 non-null float64\n",
            "Freedom to make life choices    782 non-null float64\n",
            "Generosity                      782 non-null float64\n",
            "Perceptions of corruption       781 non-null float64\n",
            "Year                            782 non-null int64\n",
            "dtypes: float64(7), int64(2), object(1)\n",
            "memory usage: 67.2+ KB\n"
          ],
          "name": "stdout"
        }
      ]
    },
    {
      "cell_type": "markdown",
      "metadata": {
        "id": "oJEvLzlI7zqO",
        "colab_type": "text"
      },
      "source": [
        "1 column is of string date type while rest are numeric."
      ]
    },
    {
      "cell_type": "code",
      "metadata": {
        "id": "ybZx7KP77zqP",
        "colab_type": "code",
        "outputId": "dc4f4de1-e0a4-4e12-a982-db3cab10c310",
        "colab": {
          "base_uri": "https://localhost:8080/",
          "height": 208
        }
      },
      "source": [
        "#Check Null Columns\n",
        "df_all.isnull().sum()"
      ],
      "execution_count": 0,
      "outputs": [
        {
          "output_type": "execute_result",
          "data": {
            "text/plain": [
              "Overall rank                    0\n",
              "Country or region               0\n",
              "Score                           0\n",
              "GDP per capita                  0\n",
              "Social support                  0\n",
              "Healthy life expectancy         0\n",
              "Freedom to make life choices    0\n",
              "Generosity                      0\n",
              "Perceptions of corruption       1\n",
              "Year                            0\n",
              "dtype: int64"
            ]
          },
          "metadata": {
            "tags": []
          },
          "execution_count": 159
        }
      ]
    },
    {
      "cell_type": "markdown",
      "metadata": {
        "id": "NbgLoU2Y7zqX",
        "colab_type": "text"
      },
      "source": [
        "We will replace the null record in the dataset with a mean value."
      ]
    },
    {
      "cell_type": "code",
      "metadata": {
        "id": "zQ8at1V3MFzp",
        "colab_type": "code",
        "colab": {}
      },
      "source": [
        "#Replacing missing values with mean\n",
        "df_all['Perceptions of corruption'].fillna((df_all['Perceptions of corruption'].mean()), inplace=True)"
      ],
      "execution_count": 0,
      "outputs": []
    },
    {
      "cell_type": "code",
      "metadata": {
        "id": "HbtQzOXbQb8B",
        "colab_type": "code",
        "colab": {}
      },
      "source": [
        "#Drop Unnecesary columns\n",
        "df = df_all[['Overall rank','Country or region','Score', 'GDP per capita', 'Perceptions of corruption']]"
      ],
      "execution_count": 0,
      "outputs": []
    },
    {
      "cell_type": "code",
      "metadata": {
        "id": "oraToHg_R1lF",
        "colab_type": "code",
        "outputId": "fecd395d-4b6b-41d0-bee9-05d0f4d1e09a",
        "colab": {
          "base_uri": "https://localhost:8080/",
          "height": 416
        }
      },
      "source": [
        "df"
      ],
      "execution_count": 0,
      "outputs": [
        {
          "output_type": "execute_result",
          "data": {
            "text/html": [
              "<div>\n",
              "<style scoped>\n",
              "    .dataframe tbody tr th:only-of-type {\n",
              "        vertical-align: middle;\n",
              "    }\n",
              "\n",
              "    .dataframe tbody tr th {\n",
              "        vertical-align: top;\n",
              "    }\n",
              "\n",
              "    .dataframe thead th {\n",
              "        text-align: right;\n",
              "    }\n",
              "</style>\n",
              "<table border=\"1\" class=\"dataframe\">\n",
              "  <thead>\n",
              "    <tr style=\"text-align: right;\">\n",
              "      <th></th>\n",
              "      <th>Overall rank</th>\n",
              "      <th>Country or region</th>\n",
              "      <th>Score</th>\n",
              "      <th>GDP per capita</th>\n",
              "      <th>Perceptions of corruption</th>\n",
              "    </tr>\n",
              "  </thead>\n",
              "  <tbody>\n",
              "    <tr>\n",
              "      <th>0</th>\n",
              "      <td>1</td>\n",
              "      <td>Switzerland</td>\n",
              "      <td>7.587</td>\n",
              "      <td>1.39651</td>\n",
              "      <td>0.41978</td>\n",
              "    </tr>\n",
              "    <tr>\n",
              "      <th>1</th>\n",
              "      <td>2</td>\n",
              "      <td>Iceland</td>\n",
              "      <td>7.561</td>\n",
              "      <td>1.30232</td>\n",
              "      <td>0.14145</td>\n",
              "    </tr>\n",
              "    <tr>\n",
              "      <th>2</th>\n",
              "      <td>3</td>\n",
              "      <td>Denmark</td>\n",
              "      <td>7.527</td>\n",
              "      <td>1.32548</td>\n",
              "      <td>0.48357</td>\n",
              "    </tr>\n",
              "    <tr>\n",
              "      <th>3</th>\n",
              "      <td>4</td>\n",
              "      <td>Norway</td>\n",
              "      <td>7.522</td>\n",
              "      <td>1.45900</td>\n",
              "      <td>0.36503</td>\n",
              "    </tr>\n",
              "    <tr>\n",
              "      <th>4</th>\n",
              "      <td>5</td>\n",
              "      <td>Canada</td>\n",
              "      <td>7.427</td>\n",
              "      <td>1.32629</td>\n",
              "      <td>0.32957</td>\n",
              "    </tr>\n",
              "    <tr>\n",
              "      <th>...</th>\n",
              "      <td>...</td>\n",
              "      <td>...</td>\n",
              "      <td>...</td>\n",
              "      <td>...</td>\n",
              "      <td>...</td>\n",
              "    </tr>\n",
              "    <tr>\n",
              "      <th>151</th>\n",
              "      <td>152</td>\n",
              "      <td>Rwanda</td>\n",
              "      <td>3.334</td>\n",
              "      <td>0.35900</td>\n",
              "      <td>0.41100</td>\n",
              "    </tr>\n",
              "    <tr>\n",
              "      <th>152</th>\n",
              "      <td>153</td>\n",
              "      <td>Tanzania</td>\n",
              "      <td>3.231</td>\n",
              "      <td>0.47600</td>\n",
              "      <td>0.14700</td>\n",
              "    </tr>\n",
              "    <tr>\n",
              "      <th>153</th>\n",
              "      <td>154</td>\n",
              "      <td>Afghanistan</td>\n",
              "      <td>3.203</td>\n",
              "      <td>0.35000</td>\n",
              "      <td>0.02500</td>\n",
              "    </tr>\n",
              "    <tr>\n",
              "      <th>154</th>\n",
              "      <td>155</td>\n",
              "      <td>Central African Republic</td>\n",
              "      <td>3.083</td>\n",
              "      <td>0.02600</td>\n",
              "      <td>0.03500</td>\n",
              "    </tr>\n",
              "    <tr>\n",
              "      <th>155</th>\n",
              "      <td>156</td>\n",
              "      <td>South Sudan</td>\n",
              "      <td>2.853</td>\n",
              "      <td>0.30600</td>\n",
              "      <td>0.09100</td>\n",
              "    </tr>\n",
              "  </tbody>\n",
              "</table>\n",
              "<p>782 rows × 5 columns</p>\n",
              "</div>"
            ],
            "text/plain": [
              "     Overall rank         Country or region  Score  GDP per capita  Perceptions of corruption\n",
              "0               1               Switzerland  7.587         1.39651                    0.41978\n",
              "1               2                   Iceland  7.561         1.30232                    0.14145\n",
              "2               3                   Denmark  7.527         1.32548                    0.48357\n",
              "3               4                    Norway  7.522         1.45900                    0.36503\n",
              "4               5                    Canada  7.427         1.32629                    0.32957\n",
              "..            ...                       ...    ...             ...                        ...\n",
              "151           152                    Rwanda  3.334         0.35900                    0.41100\n",
              "152           153                  Tanzania  3.231         0.47600                    0.14700\n",
              "153           154               Afghanistan  3.203         0.35000                    0.02500\n",
              "154           155  Central African Republic  3.083         0.02600                    0.03500\n",
              "155           156               South Sudan  2.853         0.30600                    0.09100\n",
              "\n",
              "[782 rows x 5 columns]"
            ]
          },
          "metadata": {
            "tags": []
          },
          "execution_count": 162
        }
      ]
    },
    {
      "cell_type": "markdown",
      "metadata": {
        "id": "zogIfpuU7zq0",
        "colab_type": "text"
      },
      "source": [
        "## 3.0 Exploratory Data Analysis"
      ]
    },
    {
      "cell_type": "markdown",
      "metadata": {
        "id": "DbYVgFvL7zq1",
        "colab_type": "text"
      },
      "source": [
        "### 3.1 Univariate Analysis\n"
      ]
    },
    {
      "cell_type": "markdown",
      "metadata": {
        "id": "x-BGTH-F7zq3",
        "colab_type": "text"
      },
      "source": [
        "a) Statistical Distribution\n"
      ]
    },
    {
      "cell_type": "code",
      "metadata": {
        "id": "VQwoHfkt7zq6",
        "colab_type": "code",
        "outputId": "b9201fd9-cb5b-4d88-fd24-0092207e7128",
        "colab": {
          "base_uri": "https://localhost:8080/",
          "height": 294
        }
      },
      "source": [
        "df.describe()"
      ],
      "execution_count": 0,
      "outputs": [
        {
          "output_type": "execute_result",
          "data": {
            "text/html": [
              "<div>\n",
              "<style scoped>\n",
              "    .dataframe tbody tr th:only-of-type {\n",
              "        vertical-align: middle;\n",
              "    }\n",
              "\n",
              "    .dataframe tbody tr th {\n",
              "        vertical-align: top;\n",
              "    }\n",
              "\n",
              "    .dataframe thead th {\n",
              "        text-align: right;\n",
              "    }\n",
              "</style>\n",
              "<table border=\"1\" class=\"dataframe\">\n",
              "  <thead>\n",
              "    <tr style=\"text-align: right;\">\n",
              "      <th></th>\n",
              "      <th>Overall rank</th>\n",
              "      <th>Score</th>\n",
              "      <th>GDP per capita</th>\n",
              "      <th>Perceptions of corruption</th>\n",
              "    </tr>\n",
              "  </thead>\n",
              "  <tbody>\n",
              "    <tr>\n",
              "      <th>count</th>\n",
              "      <td>782.000000</td>\n",
              "      <td>782.000000</td>\n",
              "      <td>782.000000</td>\n",
              "      <td>782.000000</td>\n",
              "    </tr>\n",
              "    <tr>\n",
              "      <th>mean</th>\n",
              "      <td>78.698210</td>\n",
              "      <td>5.379018</td>\n",
              "      <td>0.916047</td>\n",
              "      <td>0.125436</td>\n",
              "    </tr>\n",
              "    <tr>\n",
              "      <th>std</th>\n",
              "      <td>45.182384</td>\n",
              "      <td>1.127456</td>\n",
              "      <td>0.407340</td>\n",
              "      <td>0.105749</td>\n",
              "    </tr>\n",
              "    <tr>\n",
              "      <th>min</th>\n",
              "      <td>1.000000</td>\n",
              "      <td>2.693000</td>\n",
              "      <td>0.000000</td>\n",
              "      <td>0.000000</td>\n",
              "    </tr>\n",
              "    <tr>\n",
              "      <th>25%</th>\n",
              "      <td>40.000000</td>\n",
              "      <td>4.509750</td>\n",
              "      <td>0.606500</td>\n",
              "      <td>0.054250</td>\n",
              "    </tr>\n",
              "    <tr>\n",
              "      <th>50%</th>\n",
              "      <td>79.000000</td>\n",
              "      <td>5.322000</td>\n",
              "      <td>0.982205</td>\n",
              "      <td>0.091033</td>\n",
              "    </tr>\n",
              "    <tr>\n",
              "      <th>75%</th>\n",
              "      <td>118.000000</td>\n",
              "      <td>6.189500</td>\n",
              "      <td>1.236187</td>\n",
              "      <td>0.155861</td>\n",
              "    </tr>\n",
              "    <tr>\n",
              "      <th>max</th>\n",
              "      <td>158.000000</td>\n",
              "      <td>7.769000</td>\n",
              "      <td>2.096000</td>\n",
              "      <td>0.551910</td>\n",
              "    </tr>\n",
              "  </tbody>\n",
              "</table>\n",
              "</div>"
            ],
            "text/plain": [
              "       Overall rank       Score  GDP per capita  Perceptions of corruption\n",
              "count    782.000000  782.000000      782.000000                 782.000000\n",
              "mean      78.698210    5.379018        0.916047                   0.125436\n",
              "std       45.182384    1.127456        0.407340                   0.105749\n",
              "min        1.000000    2.693000        0.000000                   0.000000\n",
              "25%       40.000000    4.509750        0.606500                   0.054250\n",
              "50%       79.000000    5.322000        0.982205                   0.091033\n",
              "75%      118.000000    6.189500        1.236187                   0.155861\n",
              "max      158.000000    7.769000        2.096000                   0.551910"
            ]
          },
          "metadata": {
            "tags": []
          },
          "execution_count": 163
        }
      ]
    },
    {
      "cell_type": "code",
      "metadata": {
        "id": "HtUuhuNiFUgh",
        "colab_type": "code",
        "outputId": "9573d8aa-3167-4923-87fa-ee8ebc0d1000",
        "colab": {
          "base_uri": "https://localhost:8080/",
          "height": 1000
        }
      },
      "source": [
        "# Detailed statistics including range, quartile, kurtosis and skewness\n",
        "col_names = ['Score', 'GDP per capita','Perceptions of corruption','Overall rank']\n",
        "for i, col_val in enumerate(col_names):\n",
        "    print(\"Mean:\", df[col_val].mean())\n",
        "    print(\"Median:\", df[col_val].median())\n",
        "    print(\"Mode:\", df[col_val].mode())\n",
        "    print(\"SD:\", df[col_val].std())\n",
        "    print(\"Variance:\", df[col_val].var())\n",
        "    # print(\"Range:\", col_val_max - col_val_min)\n",
        "    print(\"Quartiles:\", df[col_val].quantile([0.25,0.5,0.75]))\n",
        "    print(\"Skewness:\", df[col_val].skew())\n",
        "    print(\"Kurtosis:\", df[col_val].kurt())\n",
        "    print(\"\\n\")"
      ],
      "execution_count": 0,
      "outputs": [
        {
          "output_type": "stream",
          "text": [
            "Mean: 5.379017902998665\n",
            "Median: 5.322\n",
            "Mode: 0    2.905\n",
            "1    4.350\n",
            "2    5.129\n",
            "3    5.192\n",
            "4    5.835\n",
            "5    5.890\n",
            "6    6.375\n",
            "7    6.379\n",
            "dtype: float64\n",
            "SD: 1.127456460155013\n",
            "Variance: 1.2711580695452724\n",
            "Quartiles: 0.25    4.50975\n",
            "0.50    5.32200\n",
            "0.75    6.18950\n",
            "Name: Score, dtype: float64\n",
            "Skewness: 0.035859433273691114\n",
            "Kurtosis: -0.7610545865625724\n",
            "\n",
            "\n",
            "Mean: 0.9160474824829727\n",
            "Median: 0.9822047088146211\n",
            "Mode: 0    0.0\n",
            "dtype: float64\n",
            "SD: 0.40734013128981933\n",
            "Variance: 0.16592598255920726\n",
            "Quartiles: 0.25    0.606500\n",
            "0.50    0.982205\n",
            "0.75    1.236187\n",
            "Name: GDP per capita, dtype: float64\n",
            "Skewness: -0.3185805094075457\n",
            "Kurtosis: -0.6927595053792621\n",
            "\n",
            "\n",
            "Mean: 0.1254356135735872\n",
            "Median: 0.0910329567193985\n",
            "Mode: 0    0.082\n",
            "dtype: float64\n",
            "SD: 0.10574868165319608\n",
            "Variance: 0.011182783671389009\n",
            "Quartiles: 0.25    0.054250\n",
            "0.50    0.091033\n",
            "0.75    0.155861\n",
            "Name: Perceptions of corruption, dtype: float64\n",
            "Skewness: 1.521857819606574\n",
            "Kurtosis: 1.8863463013154846\n",
            "\n",
            "\n",
            "Mean: 78.69820971867007\n",
            "Median: 79.0\n",
            "Mode: 0     34\n",
            "1     57\n",
            "2     82\n",
            "3    145\n",
            "dtype: int64\n",
            "SD: 45.18238438270535\n",
            "Variance: 2041.4478585065367\n",
            "Quartiles: 0.25     40.0\n",
            "0.50     79.0\n",
            "0.75    118.0\n",
            "Name: Overall rank, dtype: float64\n",
            "Skewness: 0.0004973514565178652\n",
            "Kurtosis: -1.1997011261617596\n",
            "\n",
            "\n"
          ],
          "name": "stdout"
        }
      ]
    },
    {
      "cell_type": "markdown",
      "metadata": {
        "id": "UaykFI907zrB",
        "colab_type": "text"
      },
      "source": [
        "b) Numerical variables Distribution"
      ]
    },
    {
      "cell_type": "code",
      "metadata": {
        "id": "O2XsuqAz7zrD",
        "colab_type": "code",
        "outputId": "2a625c37-f1eb-49a1-84d7-8f1072af478f",
        "colab": {
          "base_uri": "https://localhost:8080/",
          "height": 1000
        }
      },
      "source": [
        "# Plotting distribution of numerical variables\n",
        "col_names = ['Score', 'GDP per capita','Perceptions of corruption','Overall rank']\n",
        "fig, ax = plt.subplots(len(col_names), figsize=(10,17))\n",
        "\n",
        "for i, col_val in enumerate(col_names):\n",
        "\n",
        "    sns.distplot(df[col_val], hist=True, ax=ax[i])\n",
        "    ax[i].set_title('Frequency distribution of '+col_val, fontsize=10)\n",
        "    ax[i].set_xlabel(col_val, fontsize=8)\n",
        "    ax[i].set_ylabel('Count', fontsize=8)\n",
        "    \n",
        "plt.tight_layout()\n",
        "plt.show()"
      ],
      "execution_count": 0,
      "outputs": [
        {
          "output_type": "display_data",
          "data": {
            "image/png": "[encoded data removed]",
            "text/plain": [
              "<Figure size 720x1224 with 4 Axes>"
            ]
          },
          "metadata": {
            "tags": []
          }
        }
      ]
    },
    {
      "cell_type": "markdown",
      "metadata": {
        "id": "VaVBU5o87zrM",
        "colab_type": "text"
      },
      "source": [
        "**Observations**\n",
        "**a) Skewness**\n",
        "\n",
        "1. Score and GDP per capita are fairly symetrical as they have skewness between 0 and 0.5\n",
        "\n",
        "3. Perception of corruption is highly postively skewed.\n",
        "\n",
        "**b) Kurtosis**\n",
        "1. The distributions for all the variables are platkurtic as they have low kurtosis"
      ]
    },
    {
      "cell_type": "markdown",
      "metadata": {
        "id": "8x57QJp2Sf7Y",
        "colab_type": "text"
      },
      "source": [
        "Testing for Normality"
      ]
    },
    {
      "cell_type": "code",
      "metadata": {
        "id": "wHBzI6zNQ15T",
        "colab_type": "code",
        "outputId": "7b312f0c-0aad-4b84-cd7a-a823f13fe4a2",
        "colab": {
          "base_uri": "https://localhost:8080/",
          "height": 313
        }
      },
      "source": [
        "#Q-Q Plot for GDP per capita\n",
        "from statsmodels.graphics.gofplots import qqplot\n",
        "from matplotlib import pyplot\n",
        "\n",
        "qqplot(df['GDP per capita'], line='s')\n",
        "pyplot.show()\n",
        "stat, p = shapiro(df['GDP per capita'])\n",
        "print('Statistics=%.4f, p=%.4f' %(stat, p))\n",
        "alpha = 0.05\n",
        "if p > alpha:\n",
        "\tprint('Sample looks Gaussian')\n",
        "else:\n",
        "\tprint('Sample does not look Gaussian')"
      ],
      "execution_count": 0,
      "outputs": [
        {
          "output_type": "display_data",
          "data": {
            "image/png": "[encoded data removed]",
            "text/plain": [
              "<Figure size 432x288 with 1 Axes>"
            ]
          },
          "metadata": {
            "tags": []
          }
        },
        {
          "output_type": "stream",
          "text": [
            "Statistics=0.9740, p=0.0000\n",
            "Sample does not look Gaussian\n"
          ],
          "name": "stdout"
        }
      ]
    },
    {
      "cell_type": "code",
      "metadata": {
        "id": "n6eEMBYHRgwr",
        "colab_type": "code",
        "outputId": "f1c9d2c9-06bf-45a6-e7a0-795ed462b1cf",
        "colab": {
          "base_uri": "https://localhost:8080/",
          "height": 313
        }
      },
      "source": [
        "#Q-Q Plot for Perceptions of corruption\n",
        "from statsmodels.graphics.gofplots import qqplot\n",
        "from matplotlib import pyplot\n",
        "\n",
        "qqplot(df['Perceptions of corruption'], line='s')\n",
        "pyplot.show()\n",
        "stat, p = shapiro(df['Perceptions of corruption'])\n",
        "print('Statistics=%.4f, p=%.4f' %(stat, p))\n",
        "alpha = 0.05\n",
        "if p > alpha:\n",
        "\tprint('Sample looks Gaussian')\n",
        "else:\n",
        "\tprint('Sample does not look Gaussian')"
      ],
      "execution_count": 0,
      "outputs": [
        {
          "output_type": "display_data",
          "data": {
            "image/png": "[encoded data removed]",
            "text/plain": [
              "<Figure size 432x288 with 1 Axes>"
            ]
          },
          "metadata": {
            "tags": []
          }
        },
        {
          "output_type": "stream",
          "text": [
            "Statistics=0.8386, p=0.0000\n",
            "Sample does not look Gaussian\n"
          ],
          "name": "stdout"
        }
      ]
    },
    {
      "cell_type": "code",
      "metadata": {
        "id": "RozPQKtnt9ah",
        "colab_type": "code",
        "outputId": "59cbedf8-00f4-4fe9-ec26-b97ab5e8cadc",
        "colab": {
          "base_uri": "https://localhost:8080/",
          "height": 356
        }
      },
      "source": [
        "# Normalize perception of corruption\n",
        "from sklearn.preprocessing import PowerTransformer\n",
        "pt = PowerTransformer(method='yeo-johnson')\n",
        "data = df['Perceptions of corruption'].reshape(-1, 1)\n",
        "pt.fit(data)\n",
        "transformed_data = pt.transform(data)\n"
      ],
      "execution_count": 0,
      "outputs": [
        {
          "output_type": "error",
          "ename": "AttributeError",
          "evalue": "ignored",
          "traceback": [
            "\u001b[0;31m---------------------------------------------------------------------------\u001b[0m",
            "\u001b[0;31mAttributeError\u001b[0m                            Traceback (most recent call last)",
            "\u001b[0;32m<ipython-input-168-5e6d9aad7d34>\u001b[0m in \u001b[0;36m<module>\u001b[0;34m()\u001b[0m\n\u001b[1;32m      1\u001b[0m \u001b[0;32mfrom\u001b[0m \u001b[0msklearn\u001b[0m\u001b[0;34m.\u001b[0m\u001b[0mpreprocessing\u001b[0m \u001b[0;32mimport\u001b[0m \u001b[0mPowerTransformer\u001b[0m\u001b[0;34m\u001b[0m\u001b[0;34m\u001b[0m\u001b[0m\n\u001b[1;32m      2\u001b[0m \u001b[0mpt\u001b[0m \u001b[0;34m=\u001b[0m \u001b[0mPowerTransformer\u001b[0m\u001b[0;34m(\u001b[0m\u001b[0mmethod\u001b[0m\u001b[0;34m=\u001b[0m\u001b[0;34m'yeo-johnson'\u001b[0m\u001b[0;34m)\u001b[0m\u001b[0;34m\u001b[0m\u001b[0;34m\u001b[0m\u001b[0m\n\u001b[0;32m----> 3\u001b[0;31m \u001b[0mdata\u001b[0m \u001b[0;34m=\u001b[0m \u001b[0mdf\u001b[0m\u001b[0;34m[\u001b[0m\u001b[0;34m'Perceptions of corruption'\u001b[0m\u001b[0;34m]\u001b[0m\u001b[0;34m.\u001b[0m\u001b[0mreshape\u001b[0m\u001b[0;34m(\u001b[0m\u001b[0;34m-\u001b[0m\u001b[0;36m1\u001b[0m\u001b[0;34m,\u001b[0m \u001b[0;36m1\u001b[0m\u001b[0;34m)\u001b[0m\u001b[0;34m\u001b[0m\u001b[0;34m\u001b[0m\u001b[0m\n\u001b[0m\u001b[1;32m      4\u001b[0m \u001b[0mpt\u001b[0m\u001b[0;34m.\u001b[0m\u001b[0mfit\u001b[0m\u001b[0;34m(\u001b[0m\u001b[0mdata\u001b[0m\u001b[0;34m)\u001b[0m\u001b[0;34m\u001b[0m\u001b[0;34m\u001b[0m\u001b[0m\n\u001b[1;32m      5\u001b[0m \u001b[0mtransformed_data\u001b[0m \u001b[0;34m=\u001b[0m \u001b[0mpt\u001b[0m\u001b[0;34m.\u001b[0m\u001b[0mtransform\u001b[0m\u001b[0;34m(\u001b[0m\u001b[0mdata\u001b[0m\u001b[0;34m)\u001b[0m\u001b[0;34m\u001b[0m\u001b[0;34m\u001b[0m\u001b[0m\n",
            "\u001b[0;32m/usr/local/lib/python3.6/dist-packages/pandas/core/generic.py\u001b[0m in \u001b[0;36m__getattr__\u001b[0;34m(self, name)\u001b[0m\n\u001b[1;32m   5177\u001b[0m             \u001b[0;32mif\u001b[0m \u001b[0mself\u001b[0m\u001b[0;34m.\u001b[0m\u001b[0m_info_axis\u001b[0m\u001b[0;34m.\u001b[0m\u001b[0m_can_hold_identifiers_and_holds_name\u001b[0m\u001b[0;34m(\u001b[0m\u001b[0mname\u001b[0m\u001b[0;34m)\u001b[0m\u001b[0;34m:\u001b[0m\u001b[0;34m\u001b[0m\u001b[0;34m\u001b[0m\u001b[0m\n\u001b[1;32m   5178\u001b[0m                 \u001b[0;32mreturn\u001b[0m \u001b[0mself\u001b[0m\u001b[0;34m[\u001b[0m\u001b[0mname\u001b[0m\u001b[0;34m]\u001b[0m\u001b[0;34m\u001b[0m\u001b[0;34m\u001b[0m\u001b[0m\n\u001b[0;32m-> 5179\u001b[0;31m             \u001b[0;32mreturn\u001b[0m \u001b[0mobject\u001b[0m\u001b[0;34m.\u001b[0m\u001b[0m__getattribute__\u001b[0m\u001b[0;34m(\u001b[0m\u001b[0mself\u001b[0m\u001b[0;34m,\u001b[0m \u001b[0mname\u001b[0m\u001b[0;34m)\u001b[0m\u001b[0;34m\u001b[0m\u001b[0;34m\u001b[0m\u001b[0m\n\u001b[0m\u001b[1;32m   5180\u001b[0m \u001b[0;34m\u001b[0m\u001b[0m\n\u001b[1;32m   5181\u001b[0m     \u001b[0;32mdef\u001b[0m \u001b[0m__setattr__\u001b[0m\u001b[0;34m(\u001b[0m\u001b[0mself\u001b[0m\u001b[0;34m,\u001b[0m \u001b[0mname\u001b[0m\u001b[0;34m,\u001b[0m \u001b[0mvalue\u001b[0m\u001b[0;34m)\u001b[0m\u001b[0;34m:\u001b[0m\u001b[0;34m\u001b[0m\u001b[0;34m\u001b[0m\u001b[0m\n",
            "\u001b[0;31mAttributeError\u001b[0m: 'Series' object has no attribute 'reshape'"
          ]
        }
      ]
    },
    {
      "cell_type": "code",
      "metadata": {
        "id": "6x_11F--wbcx",
        "colab_type": "code",
        "outputId": "784193ef-4cdf-4e5d-ba8d-b72bfe79256a",
        "colab": {
          "base_uri": "https://localhost:8080/",
          "height": 1000
        }
      },
      "source": [
        "# normalize the data attributes\n",
        "from sklearn import preprocessing\n",
        "df1['Perceptions of corruption'] = preprocessing.normalize(df['Perceptions of corruption'])\n",
        "df1['Perceptions of corruption']"
      ],
      "execution_count": 0,
      "outputs": [
        {
          "output_type": "error",
          "ename": "ValueError",
          "evalue": "ignored",
          "traceback": [
            "\u001b[0;31m---------------------------------------------------------------------------\u001b[0m",
            "\u001b[0;31mValueError\u001b[0m                                Traceback (most recent call last)",
            "\u001b[0;32m<ipython-input-169-48b0223c31e0>\u001b[0m in \u001b[0;36m<module>\u001b[0;34m()\u001b[0m\n\u001b[1;32m      1\u001b[0m \u001b[0;32mfrom\u001b[0m \u001b[0msklearn\u001b[0m \u001b[0;32mimport\u001b[0m \u001b[0mpreprocessing\u001b[0m\u001b[0;34m\u001b[0m\u001b[0;34m\u001b[0m\u001b[0m\n\u001b[0;32m----> 2\u001b[0;31m \u001b[0mdf1\u001b[0m\u001b[0;34m[\u001b[0m\u001b[0;34m'Perceptions of corruption'\u001b[0m\u001b[0;34m]\u001b[0m \u001b[0;34m=\u001b[0m \u001b[0mpreprocessing\u001b[0m\u001b[0;34m.\u001b[0m\u001b[0mnormalize\u001b[0m\u001b[0;34m(\u001b[0m\u001b[0mdf\u001b[0m\u001b[0;34m[\u001b[0m\u001b[0;34m'Perceptions of corruption'\u001b[0m\u001b[0;34m]\u001b[0m\u001b[0;34m)\u001b[0m\u001b[0;34m\u001b[0m\u001b[0;34m\u001b[0m\u001b[0m\n\u001b[0m\u001b[1;32m      3\u001b[0m \u001b[0mdf1\u001b[0m\u001b[0;34m[\u001b[0m\u001b[0;34m'Perceptions of corruption'\u001b[0m\u001b[0;34m]\u001b[0m\u001b[0;34m\u001b[0m\u001b[0;34m\u001b[0m\u001b[0m\n",
            "\u001b[0;32m/usr/local/lib/python3.6/dist-packages/sklearn/preprocessing/data.py\u001b[0m in \u001b[0;36mnormalize\u001b[0;34m(X, norm, axis, copy, return_norm)\u001b[0m\n\u001b[1;32m   1612\u001b[0m \u001b[0;34m\u001b[0m\u001b[0m\n\u001b[1;32m   1613\u001b[0m     X = check_array(X, sparse_format, copy=copy,\n\u001b[0;32m-> 1614\u001b[0;31m                     estimator='the normalize function', dtype=FLOAT_DTYPES)\n\u001b[0m\u001b[1;32m   1615\u001b[0m     \u001b[0;32mif\u001b[0m \u001b[0maxis\u001b[0m \u001b[0;34m==\u001b[0m \u001b[0;36m0\u001b[0m\u001b[0;34m:\u001b[0m\u001b[0;34m\u001b[0m\u001b[0;34m\u001b[0m\u001b[0m\n\u001b[1;32m   1616\u001b[0m         \u001b[0mX\u001b[0m \u001b[0;34m=\u001b[0m \u001b[0mX\u001b[0m\u001b[0;34m.\u001b[0m\u001b[0mT\u001b[0m\u001b[0;34m\u001b[0m\u001b[0;34m\u001b[0m\u001b[0m\n",
            "\u001b[0;32m/usr/local/lib/python3.6/dist-packages/sklearn/utils/validation.py\u001b[0m in \u001b[0;36mcheck_array\u001b[0;34m(array, accept_sparse, accept_large_sparse, dtype, order, copy, force_all_finite, ensure_2d, allow_nd, ensure_min_samples, ensure_min_features, warn_on_dtype, estimator)\u001b[0m\n\u001b[1;32m    519\u001b[0m                     \u001b[0;34m\"Reshape your data either using array.reshape(-1, 1) if \"\u001b[0m\u001b[0;34m\u001b[0m\u001b[0;34m\u001b[0m\u001b[0m\n\u001b[1;32m    520\u001b[0m                     \u001b[0;34m\"your data has a single feature or array.reshape(1, -1) \"\u001b[0m\u001b[0;34m\u001b[0m\u001b[0;34m\u001b[0m\u001b[0m\n\u001b[0;32m--> 521\u001b[0;31m                     \"if it contains a single sample.\".format(array))\n\u001b[0m\u001b[1;32m    522\u001b[0m \u001b[0;34m\u001b[0m\u001b[0m\n\u001b[1;32m    523\u001b[0m         \u001b[0;31m# in the future np.flexible dtypes will be handled like object dtypes\u001b[0m\u001b[0;34m\u001b[0m\u001b[0;34m\u001b[0m\u001b[0;34m\u001b[0m\u001b[0m\n",
            "\u001b[0;31mValueError\u001b[0m: Expected 2D array, got 1D array instead:\narray=[0.41978    0.14145    0.48357    0.36503    0.32957    0.41372\n 0.31814    0.43844    0.42922    0.35637    0.07785    0.10583\n 0.18676    0.21312    0.1589     0.17521    0.37798    0.28703\n 0.2254     0.38583    0.32067    0.32524    0.11069    0.4921\n 0.0927     0.21843    0.12869    0.52208    0.20646    0.08484\n 0.02652    0.24558    0.0512     0.03187    0.32524    0.06398\n 0.13586    0.08129    0.25609    0.13633    0.0114     0.11776\n 0.09472    0.30826    0.03431    0.1806     0.07857    0.1809\n 0.306      0.02901    0.088      0.01615    0.08242    0.08454\n 0.03787    0.01031    0.19317    0.05989    0.1909     0.04212\n 0.10501    0.0243     0.11023    0.03005    0.02299    0.1428\n 0.06146    0.17383    0.04741    0.30844    0.07521    0.37124\n 0.15184    0.         0.10441    0.15746    0.04232    0.0403\n 0.15445    0.16065    0.10464    0.14293    0.14296    0.02781\n 0.12468    0.00649    0.02617    0.01078    0.06332    0.12279\n 0.39928    0.08546    0.05327    0.15603    0.06413    0.00227\n 0.12504    0.14234    0.24249    0.02666    0.0306     0.01397\n 0.04582    0.02758    0.06825    0.15072    0.06358    0.12905\n 0.12569    0.05863    0.02961    0.13788    0.08884    0.04355\n 0.08079    0.06232    0.08492    0.1466     0.17175    0.07625\n 0.05907    0.15048    0.08786    0.17461    0.05839    0.28105\n 0.039      0.12474    0.19034    0.38331    0.06977    0.09179\n 0.05786    0.00872    0.06324    0.07854    0.07122    0.12352\n 0.11686    0.199      0.07267    0.10713    0.11091    0.15639\n 0.07247    0.05747    0.08124    0.08289    0.05269    0.12139\n 0.17922    0.12832    0.09719    0.55191    0.0801     0.18906\n 0.10062    0.10731    0.44453    0.41203    0.14975    0.35776\n 0.41004    0.31329    0.29927    0.41904    0.32331    0.40867\n 0.08728    0.21348    0.14868    0.10547    0.12275    0.28551\n 0.14166    0.26248    0.29754    0.35329    0.18355    0.46987\n 0.27399    0.11451    0.08423    0.07296    0.03986    0.35561\n 0.21394    0.17554    0.05399    0.17808    0.02833    0.30008\n 0.0663     0.48049    0.06137    0.16157    0.08701    0.12692\n 0.23669    0.25772    0.01241    0.08304    0.02947    0.10613\n 0.09081    0.16292    0.28333    0.02556    0.18037    0.10771\n 0.18985    0.11132    0.01903    0.03586    0.055      0.07716\n 0.07746    0.0182     0.17457    0.16578    0.03635    0.05292\n 0.28467    0.05203    0.10339    0.0889     0.05228    0.07396\n 0.00679    0.18519    0.04294    0.04002    0.31647    0.3118\n 0.06547    0.12348    0.00322    0.13297    0.17914    0.11757\n 0.02745    0.1616     0.04762    0.04339    0.         0.12721\n 0.12372    0.08404    0.04472    0.1388     0.03061    0.01521\n 0.07047    0.11556    0.36794    0.0817     0.04127    0.13509\n 0.03285    0.22423    0.0305     0.06906    0.0557     0.11479\n 0.07008    0.10613    0.05301    0.12583    0.08196    0.13636\n 0.10398    0.06126    0.1717     0.08415    0.07964    0.08722\n 0.20243    0.10393    0.03616    0.06686    0.01829    0.0326\n 0.06075    0.3188     0.09753    0.11681    0.00615    0.17955\n 0.08582    0.07564    0.10039    0.09314    0.13647    0.14476\n 0.10769    0.18437    0.1553     0.08092    0.08434    0.17176\n 0.13015    0.04952    0.12533    0.06442    0.05892    0.07506\n 0.05099    0.04852    0.1192     0.50521    0.06681    0.07112\n 0.11587    0.17233    0.09419    0.31596383 0.40077007 0.15352656\n 0.36700729 0.38261154 0.28266183 0.28737152 0.3828167  0.38439873\n 0.30118373 0.0852421  0.10010659 0.22106037 0.13563879 0.29838815\n 0.27673194 0.25134313 0.31883442 0.26542807 0.08228798 0.32448956\n 0.11109276 0.03687293 0.05973989 0.13277411 0.46430779 0.15306607\n 0.17806187 0.07722328 0.07098392 0.17250243 0.03161274 0.06382924\n 0.0709141  0.43929926 0.04666874 0.27343225 0.00896482 0.21515955\n 0.02421085 0.25704217 0.06560071 0.13068798 0.14013465 0.08998096\n 0.05930781 0.24652822 0.02802809 0.03296288 0.09658107 0.16376074\n 0.01186564 0.14609611 0.07384273 0.06328267 0.01009129 0.0043879\n 0.06047773 0.25927034 0.11928289 0.15535335 0.04512898 0.04704909\n 0.04218156 0.04123798 0.18324892 0.15631382 0.09261021 0.09967158\n 0.09106591 0.29393375 0.09933189 0.04090378 0.11980327 0.03663694\n 0.05526778 0.04310311 0.05747162 0.02279427 0.12434807 0.01531714\n 0.06449112 0.08817419 0.08776318 0.18098751 0.11394525 0.04328978\n 0.03751383 0.01586945 0.         0.07334545 0.06027779 0.28241032\n 0.08763324 0.02612157 0.14637715 0.17338039 0.03943918 0.07297555\n 0.03290229 0.0725095  0.08672315 0.0892826  0.11438137 0.01105153\n 0.07109518 0.05130663 0.04876107 0.03986422 0.12371786 0.09314697\n 0.06464132 0.17943639 0.1888162  0.11546045 0.07821355 0.10721575\n 0.07604679 0.16545571 0.07365397 0.02667442 0.09222689 0.136957\n 0.07961813 0.25166664 0.06024136 0.10497025 0.13006178 0.06810595\n 0.08984752 0.02533637 0.02302947 0.05706972 0.12032811 0.13857295\n 0.07271165 0.05358188 0.09537538 0.11909464 0.06972034 0.06115783\n 0.0985832  0.06092902 0.06723198 0.09987215 0.05676742 0.11679351\n 0.03894825 0.11093762 0.09566502 0.45522001 0.15134713 0.06603511\n 0.08414795 0.05656508 0.393      0.34       0.408      0.138\n 0.357      0.295      0.291      0.389      0.383      0.302\n 0.082      0.224      0.101      0.306      0.28       0.24\n 0.321      0.133      0.272      0.12543561 0.034      0.142\n 0.176      0.095      0.061      0.078      0.063      0.088\n 0.054      0.071      0.155      0.171      0.127      0.457\n 0.059      0.074      0.039      0.019      0.014      0.082\n 0.128      0.064      0.123      0.259      0.106      0.029\n 0.028      0.12       0.089      0.006      0.051      0.001\n 0.066      0.15       0.05       0.031      0.051      0.154\n 0.025      0.121      0.035      0.054      0.174      0.074\n 0.034      0.023      0.         0.037      0.022      0.148\n 0.105      0.074      0.154      0.109      0.113      0.291\n 0.017      0.043      0.044      0.136      0.081      0.039\n 0.106      0.135      0.074      0.103      0.176      0.034\n 0.052      0.134      0.032      0.035      0.         0.032\n 0.079      0.018      0.171      0.282      0.043      0.009\n 0.078      0.052      0.052      0.076      0.056      0.129\n 0.103      0.029      0.082      0.174      0.063      0.032\n 0.053      0.077      0.144      0.05       0.095      0.056\n 0.064      0.065      0.128      0.107      0.158      0.055\n 0.082      0.093      0.146      0.215      0.028      0.178\n 0.06       0.052      0.093      0.099      0.061      0.067\n 0.082      0.011      0.101      0.094      0.112      0.061\n 0.049      0.099      0.036      0.092      0.08       0.104\n 0.03       0.144      0.444      0.064      0.097      0.106\n 0.038      0.076      0.393      0.41       0.341      0.118\n 0.298      0.343      0.373      0.38       0.308      0.226\n 0.29       0.093      0.082      0.316      0.278      0.31\n 0.265      0.21       0.128      0.036      0.182      0.151\n 0.073      0.183      0.097      0.056      0.078      0.132\n 0.167      0.079      0.054      0.086      0.15       0.453\n 0.074      0.03       0.11       0.014      0.016      0.05\n 0.24       0.042      0.034      0.057      0.127      0.006\n 0.05       0.005      0.041      0.087      0.097      0.028\n 0.064      0.056      0.161      0.028      0.06       0.14\n 0.078      0.096      0.064      0.02       0.08       0.162\n 0.027      0.025      0.098      0.031      0.107      0.039\n 0.         0.152      0.08       0.144      0.022      0.287\n 0.101      0.006      0.106      0.024      0.142      0.034\n 0.038      0.034      0.041      0.023      0.028      0.114\n 0.076      0.182      0.027      0.028      0.1        0.073\n 0.167      0.037      0.004      0.04       0.09       0.089\n 0.13       0.082      0.093      0.055      0.164      0.055\n 0.027      0.047      0.062      0.066      0.072      0.27\n 0.056      0.102      0.113      0.064      0.125      0.086\n 0.164      0.167      0.053      0.088      0.138      0.055\n 0.143      0.089      0.053      0.052      0.045      0.047\n 0.172      0.078      0.01       0.1        0.135      0.06\n 0.067      0.087      0.085      0.085      0.033      0.078\n 0.041      0.093      0.18       0.089      0.11       0.1\n 0.141      0.089      0.077      0.411      0.147      0.025\n 0.035      0.091     ].\nReshape your data either using array.reshape(-1, 1) if your data has a single feature or array.reshape(1, -1) if it contains a single sample."
          ]
        }
      ]
    },
    {
      "cell_type": "code",
      "metadata": {
        "id": "gJgjlD18vb_G",
        "colab_type": "code",
        "outputId": "006fe271-913a-4dad-e2f6-88c265c2b1f9",
        "colab": {
          "base_uri": "https://localhost:8080/",
          "height": 314
        }
      },
      "source": [
        "#Q-Q Plot for Happiness Score\n",
        "from statsmodels.graphics.gofplots import qqplot\n",
        "from matplotlib import pyplot\n",
        "\n",
        "qqplot(df['Score'], line='s')\n",
        "pyplot.show()\n",
        "stat, p = shapiro(df['Score'])\n",
        "print('Statistics=%.4f, p=%.4f' %(stat, p))\n",
        "alpha = 0.05\n",
        "if p > alpha:\n",
        "\tprint('Sample looks Gaussian')\n",
        "else:\n",
        "\tprint('Sample does not look Gaussian')\n"
      ],
      "execution_count": 0,
      "outputs": [
        {
          "output_type": "display_data",
          "data": {
            "image/png": "[encoded data removed]",
            "text/plain": [
              "<Figure size 432x288 with 1 Axes>"
            ]
          },
          "metadata": {
            "tags": []
          }
        },
        {
          "output_type": "stream",
          "text": [
            "Statistics=0.9852, p=0.0000\n",
            "Sample does not look Gaussian\n"
          ],
          "name": "stdout"
        }
      ]
    },
    {
      "cell_type": "code",
      "metadata": {
        "id": "w5kTBD8J3HkK",
        "colab_type": "code",
        "outputId": "428ad6d9-d244-451d-dc1d-5ff098274cdb",
        "colab": {
          "base_uri": "https://localhost:8080/",
          "height": 380
        }
      },
      "source": [
        "from sklearn.preprocessing import PowerTransformer\n",
        "from scipy.stats import shapiro\n",
        "pt = PowerTransformer()\n",
        "pt.fit(df[['Perceptions of corruption']])\n",
        "#applying power transform to the data\n",
        "df['Perceptions of corruption'] = pt.fit(df[['Perceptions of corruption']])\n",
        "\n",
        "stat, p = shapiro(df['Perceptions of corruption'])\n",
        "print('Statistics=%.4f, p=%.4f' %(stat, p))\n",
        "alpha = 0.05\n",
        "if p > alpha:\n",
        "\tprint('Sample looks Gaussian')\n",
        "else:\n",
        "\tprint('Sample does not look Gaussian')"
      ],
      "execution_count": 0,
      "outputs": [
        {
          "output_type": "error",
          "ename": "TypeError",
          "evalue": "ignored",
          "traceback": [
            "\u001b[0;31m---------------------------------------------------------------------------\u001b[0m",
            "\u001b[0;31mTypeError\u001b[0m                                 Traceback (most recent call last)",
            "\u001b[0;32m<ipython-input-184-70d64c63f2fb>\u001b[0m in \u001b[0;36m<module>\u001b[0;34m()\u001b[0m\n\u001b[1;32m      2\u001b[0m \u001b[0;32mfrom\u001b[0m \u001b[0mscipy\u001b[0m\u001b[0;34m.\u001b[0m\u001b[0mstats\u001b[0m \u001b[0;32mimport\u001b[0m \u001b[0mshapiro\u001b[0m\u001b[0;34m\u001b[0m\u001b[0;34m\u001b[0m\u001b[0m\n\u001b[1;32m      3\u001b[0m \u001b[0mpt\u001b[0m \u001b[0;34m=\u001b[0m \u001b[0mPowerTransformer\u001b[0m\u001b[0;34m(\u001b[0m\u001b[0;34m)\u001b[0m\u001b[0;34m\u001b[0m\u001b[0;34m\u001b[0m\u001b[0m\n\u001b[0;32m----> 4\u001b[0;31m \u001b[0mpt\u001b[0m\u001b[0;34m.\u001b[0m\u001b[0mfit\u001b[0m\u001b[0;34m(\u001b[0m\u001b[0mdf\u001b[0m\u001b[0;34m[\u001b[0m\u001b[0;34m[\u001b[0m\u001b[0;34m'Perceptions of corruption'\u001b[0m\u001b[0;34m]\u001b[0m\u001b[0;34m]\u001b[0m\u001b[0;34m)\u001b[0m\u001b[0;34m\u001b[0m\u001b[0;34m\u001b[0m\u001b[0m\n\u001b[0m\u001b[1;32m      5\u001b[0m \u001b[0;31m#applying power transform to the data\u001b[0m\u001b[0;34m\u001b[0m\u001b[0;34m\u001b[0m\u001b[0;34m\u001b[0m\u001b[0m\n\u001b[1;32m      6\u001b[0m \u001b[0mdf\u001b[0m\u001b[0;34m[\u001b[0m\u001b[0;34m'Perceptions of corruption'\u001b[0m\u001b[0;34m]\u001b[0m \u001b[0;34m=\u001b[0m \u001b[0mpt\u001b[0m\u001b[0;34m.\u001b[0m\u001b[0mfit\u001b[0m\u001b[0;34m(\u001b[0m\u001b[0mdf\u001b[0m\u001b[0;34m[\u001b[0m\u001b[0;34m[\u001b[0m\u001b[0;34m'Perceptions of corruption'\u001b[0m\u001b[0;34m]\u001b[0m\u001b[0;34m]\u001b[0m\u001b[0;34m)\u001b[0m\u001b[0;34m\u001b[0m\u001b[0;34m\u001b[0m\u001b[0m\n",
            "\u001b[0;32m/usr/local/lib/python3.6/dist-packages/sklearn/preprocessing/data.py\u001b[0m in \u001b[0;36mfit\u001b[0;34m(self, X, y)\u001b[0m\n\u001b[1;32m   2672\u001b[0m         \u001b[0mself\u001b[0m \u001b[0;34m:\u001b[0m \u001b[0mobject\u001b[0m\u001b[0;34m\u001b[0m\u001b[0;34m\u001b[0m\u001b[0m\n\u001b[1;32m   2673\u001b[0m         \"\"\"\n\u001b[0;32m-> 2674\u001b[0;31m         \u001b[0mself\u001b[0m\u001b[0;34m.\u001b[0m\u001b[0m_fit\u001b[0m\u001b[0;34m(\u001b[0m\u001b[0mX\u001b[0m\u001b[0;34m,\u001b[0m \u001b[0my\u001b[0m\u001b[0;34m=\u001b[0m\u001b[0my\u001b[0m\u001b[0;34m,\u001b[0m \u001b[0mforce_transform\u001b[0m\u001b[0;34m=\u001b[0m\u001b[0;32mFalse\u001b[0m\u001b[0;34m)\u001b[0m\u001b[0;34m\u001b[0m\u001b[0;34m\u001b[0m\u001b[0m\n\u001b[0m\u001b[1;32m   2675\u001b[0m         \u001b[0;32mreturn\u001b[0m \u001b[0mself\u001b[0m\u001b[0;34m\u001b[0m\u001b[0;34m\u001b[0m\u001b[0m\n\u001b[1;32m   2676\u001b[0m \u001b[0;34m\u001b[0m\u001b[0m\n",
            "\u001b[0;32m/usr/local/lib/python3.6/dist-packages/sklearn/preprocessing/data.py\u001b[0m in \u001b[0;36m_fit\u001b[0;34m(self, X, y, force_transform)\u001b[0m\n\u001b[1;32m   2679\u001b[0m \u001b[0;34m\u001b[0m\u001b[0m\n\u001b[1;32m   2680\u001b[0m     \u001b[0;32mdef\u001b[0m \u001b[0m_fit\u001b[0m\u001b[0;34m(\u001b[0m\u001b[0mself\u001b[0m\u001b[0;34m,\u001b[0m \u001b[0mX\u001b[0m\u001b[0;34m,\u001b[0m \u001b[0my\u001b[0m\u001b[0;34m=\u001b[0m\u001b[0;32mNone\u001b[0m\u001b[0;34m,\u001b[0m \u001b[0mforce_transform\u001b[0m\u001b[0;34m=\u001b[0m\u001b[0;32mFalse\u001b[0m\u001b[0;34m)\u001b[0m\u001b[0;34m:\u001b[0m\u001b[0;34m\u001b[0m\u001b[0;34m\u001b[0m\u001b[0m\n\u001b[0;32m-> 2681\u001b[0;31m         \u001b[0mX\u001b[0m \u001b[0;34m=\u001b[0m \u001b[0mself\u001b[0m\u001b[0;34m.\u001b[0m\u001b[0m_check_input\u001b[0m\u001b[0;34m(\u001b[0m\u001b[0mX\u001b[0m\u001b[0;34m,\u001b[0m \u001b[0mcheck_positive\u001b[0m\u001b[0;34m=\u001b[0m\u001b[0;32mTrue\u001b[0m\u001b[0;34m,\u001b[0m \u001b[0mcheck_method\u001b[0m\u001b[0;34m=\u001b[0m\u001b[0;32mTrue\u001b[0m\u001b[0;34m)\u001b[0m\u001b[0;34m\u001b[0m\u001b[0;34m\u001b[0m\u001b[0m\n\u001b[0m\u001b[1;32m   2682\u001b[0m \u001b[0;34m\u001b[0m\u001b[0m\n\u001b[1;32m   2683\u001b[0m         \u001b[0;32mif\u001b[0m \u001b[0;32mnot\u001b[0m \u001b[0mself\u001b[0m\u001b[0;34m.\u001b[0m\u001b[0mcopy\u001b[0m \u001b[0;32mand\u001b[0m \u001b[0;32mnot\u001b[0m \u001b[0mforce_transform\u001b[0m\u001b[0;34m:\u001b[0m  \u001b[0;31m# if call from fit()\u001b[0m\u001b[0;34m\u001b[0m\u001b[0;34m\u001b[0m\u001b[0m\n",
            "\u001b[0;32m/usr/local/lib/python3.6/dist-packages/sklearn/preprocessing/data.py\u001b[0m in \u001b[0;36m_check_input\u001b[0;34m(self, X, check_positive, check_shape, check_method)\u001b[0m\n\u001b[1;32m   2891\u001b[0m         \"\"\"\n\u001b[1;32m   2892\u001b[0m         X = check_array(X, ensure_2d=True, dtype=FLOAT_DTYPES, copy=self.copy,\n\u001b[0;32m-> 2893\u001b[0;31m                         force_all_finite='allow-nan')\n\u001b[0m\u001b[1;32m   2894\u001b[0m \u001b[0;34m\u001b[0m\u001b[0m\n\u001b[1;32m   2895\u001b[0m         \u001b[0;32mwith\u001b[0m \u001b[0mnp\u001b[0m\u001b[0;34m.\u001b[0m\u001b[0mwarnings\u001b[0m\u001b[0;34m.\u001b[0m\u001b[0mcatch_warnings\u001b[0m\u001b[0;34m(\u001b[0m\u001b[0;34m)\u001b[0m\u001b[0;34m:\u001b[0m\u001b[0;34m\u001b[0m\u001b[0;34m\u001b[0m\u001b[0m\n",
            "\u001b[0;32m/usr/local/lib/python3.6/dist-packages/sklearn/utils/validation.py\u001b[0m in \u001b[0;36mcheck_array\u001b[0;34m(array, accept_sparse, accept_large_sparse, dtype, order, copy, force_all_finite, ensure_2d, allow_nd, ensure_min_samples, ensure_min_features, warn_on_dtype, estimator)\u001b[0m\n\u001b[1;32m    494\u001b[0m             \u001b[0;32mtry\u001b[0m\u001b[0;34m:\u001b[0m\u001b[0;34m\u001b[0m\u001b[0;34m\u001b[0m\u001b[0m\n\u001b[1;32m    495\u001b[0m                 \u001b[0mwarnings\u001b[0m\u001b[0;34m.\u001b[0m\u001b[0msimplefilter\u001b[0m\u001b[0;34m(\u001b[0m\u001b[0;34m'error'\u001b[0m\u001b[0;34m,\u001b[0m \u001b[0mComplexWarning\u001b[0m\u001b[0;34m)\u001b[0m\u001b[0;34m\u001b[0m\u001b[0;34m\u001b[0m\u001b[0m\n\u001b[0;32m--> 496\u001b[0;31m                 \u001b[0marray\u001b[0m \u001b[0;34m=\u001b[0m \u001b[0mnp\u001b[0m\u001b[0;34m.\u001b[0m\u001b[0masarray\u001b[0m\u001b[0;34m(\u001b[0m\u001b[0marray\u001b[0m\u001b[0;34m,\u001b[0m \u001b[0mdtype\u001b[0m\u001b[0;34m=\u001b[0m\u001b[0mdtype\u001b[0m\u001b[0;34m,\u001b[0m \u001b[0morder\u001b[0m\u001b[0;34m=\u001b[0m\u001b[0morder\u001b[0m\u001b[0;34m)\u001b[0m\u001b[0;34m\u001b[0m\u001b[0;34m\u001b[0m\u001b[0m\n\u001b[0m\u001b[1;32m    497\u001b[0m             \u001b[0;32mexcept\u001b[0m \u001b[0mComplexWarning\u001b[0m\u001b[0;34m:\u001b[0m\u001b[0;34m\u001b[0m\u001b[0;34m\u001b[0m\u001b[0m\n\u001b[1;32m    498\u001b[0m                 raise ValueError(\"Complex data not supported\\n\"\n",
            "\u001b[0;32m/usr/local/lib/python3.6/dist-packages/numpy/core/_asarray.py\u001b[0m in \u001b[0;36masarray\u001b[0;34m(a, dtype, order)\u001b[0m\n\u001b[1;32m     83\u001b[0m \u001b[0;34m\u001b[0m\u001b[0m\n\u001b[1;32m     84\u001b[0m     \"\"\"\n\u001b[0;32m---> 85\u001b[0;31m     \u001b[0;32mreturn\u001b[0m \u001b[0marray\u001b[0m\u001b[0;34m(\u001b[0m\u001b[0ma\u001b[0m\u001b[0;34m,\u001b[0m \u001b[0mdtype\u001b[0m\u001b[0;34m,\u001b[0m \u001b[0mcopy\u001b[0m\u001b[0;34m=\u001b[0m\u001b[0;32mFalse\u001b[0m\u001b[0;34m,\u001b[0m \u001b[0morder\u001b[0m\u001b[0;34m=\u001b[0m\u001b[0morder\u001b[0m\u001b[0;34m)\u001b[0m\u001b[0;34m\u001b[0m\u001b[0;34m\u001b[0m\u001b[0m\n\u001b[0m\u001b[1;32m     86\u001b[0m \u001b[0;34m\u001b[0m\u001b[0m\n\u001b[1;32m     87\u001b[0m \u001b[0;34m\u001b[0m\u001b[0m\n",
            "\u001b[0;31mTypeError\u001b[0m: float() argument must be a string or a number, not 'PowerTransformer'"
          ]
        }
      ]
    },
    {
      "cell_type": "markdown",
      "metadata": {
        "id": "syi1IaF57zro",
        "colab_type": "text"
      },
      "source": [
        "### 3.3 Checking outliers"
      ]
    },
    {
      "cell_type": "code",
      "metadata": {
        "id": "Zemo5Ta_7zrt",
        "colab_type": "code",
        "outputId": "965da041-d865-483c-d2e4-7ecb8943eddb",
        "colab": {
          "base_uri": "https://localhost:8080/",
          "height": 1000
        }
      },
      "source": [
        "#Outlier: \n",
        "col_names = ['Score', 'GDP per capita','Perceptions of corruption','Overall rank']\n",
        "\n",
        "fig, ax = plt.subplots(len(col_names), figsize=(6,20))\n",
        "\n",
        "for i, col_val in enumerate(col_names):\n",
        "\n",
        "    sns.boxplot(y=df[col_val], ax=ax[i])\n",
        "    ax[i].set_title('Box plot - {}'.format(col_val), fontsize=10)\n",
        "    ax[i].set_xlabel(col_val, fontsize=8)\n",
        "\n",
        "plt.tight_layout()\n",
        "plt.show()"
      ],
      "execution_count": 0,
      "outputs": [
        {
          "output_type": "display_data",
          "data": {
            "image/png": "[encoded data removed]",
            "text/plain": [
              "<Figure size 432x1440 with 4 Axes>"
            ]
          },
          "metadata": {
            "tags": []
          }
        }
      ]
    },
    {
      "cell_type": "markdown",
      "metadata": {
        "id": "xWNYPvl37zsA",
        "colab_type": "text"
      },
      "source": [
        "Observations:\n",
        "\n",
        "a) Score and GDP per capita columns have no outliers\n",
        "\n",
        "b) Perceptions of corruption has outliers. That notwithstanding, the outliers will not be dropped as they are of reasonable range compared to mean.\n"
      ]
    },
    {
      "cell_type": "markdown",
      "metadata": {
        "id": "Gcx7Akel7zsD",
        "colab_type": "text"
      },
      "source": [
        "### 3.4 Bi-variate analysis"
      ]
    },
    {
      "cell_type": "code",
      "metadata": {
        "id": "0Uh0QTkC2WAa",
        "colab_type": "code",
        "colab": {}
      },
      "source": [
        "#Checking for correlations between the variables\n",
        "plt.figure(dpi=100)\n",
        "cor=df.corr()\n",
        "sns.heatmap(cor, xticklabels=cor.columns, yticklabels=cor.columns, annot = True)\n",
        "plt.title('Correlation between variables')\n",
        "plt.show"
      ],
      "execution_count": 0,
      "outputs": []
    },
    {
      "cell_type": "markdown",
      "metadata": {
        "id": "FaqA6_Qe7zsH",
        "colab_type": "text"
      },
      "source": [
        "a) GDP versus happiness Score"
      ]
    },
    {
      "cell_type": "code",
      "metadata": {
        "id": "bGOXh8Ir7mQR",
        "colab_type": "code",
        "colab": {}
      },
      "source": [
        "#Scatter plot will check for any correlation between happiness score and GDP\n",
        "plt.scatter(df['GDP per capita'], df['Score'] )\n",
        "\n",
        "# Title\n",
        "plt.title('GDP verses Happiness Score')\n",
        "\n",
        "# X axis label\n",
        "plt.xlabel('GDP per capita')\n",
        "\n",
        "# y axis label\n",
        "plt.ylabel('Score')\n",
        "\n",
        "# Display scatterplot\n",
        "plt.show()\n"
      ],
      "execution_count": 0,
      "outputs": []
    },
    {
      "cell_type": "markdown",
      "metadata": {
        "id": "3S_uUSzi-S50",
        "colab_type": "text"
      },
      "source": [
        "Observations\n",
        "\n",
        "* There is a strong positive corelation between the GDP per capita and the happiness score. i.e An increase in the GDP per capita has a direct positive effect on the happiness score."
      ]
    },
    {
      "cell_type": "markdown",
      "metadata": {
        "id": "4vZIbs8AA0zu",
        "colab_type": "text"
      },
      "source": [
        " b) Perceptions on corruption versus happiness Score\n",
        "\n"
      ]
    },
    {
      "cell_type": "code",
      "metadata": {
        "id": "t8NDdiUX8BHz",
        "colab_type": "code",
        "colab": {}
      },
      "source": [
        "#Scatter plot will check for any correlation between happiness score and GDP\n",
        "plt.scatter(df['Perceptions of corruption'], df['Score'])\n",
        "\n",
        "# Title\n",
        "plt.title('Perceptions of corruption verses Happiness Score')\n",
        "\n",
        "# X axis label\n",
        "plt.xlabel('Perceptions of corruption')\n",
        "\n",
        "# y axis label\n",
        "plt.ylabel('Score')\n",
        "\n",
        "# Display scatterplot\n",
        "plt.show()"
      ],
      "execution_count": 0,
      "outputs": []
    },
    {
      "cell_type": "markdown",
      "metadata": {
        "id": "sY_8dlpd-m0c",
        "colab_type": "text"
      },
      "source": [
        "Observations\n",
        "\n",
        "* There is a moderate positive corelation between the perception of corruption and the happiness score. An increase in corruption increases affects the happiness score."
      ]
    },
    {
      "cell_type": "markdown",
      "metadata": {
        "id": "b3Det7zHA-N-",
        "colab_type": "text"
      },
      "source": [
        "c) GDP versus perceptions of corruption\n"
      ]
    },
    {
      "cell_type": "code",
      "metadata": {
        "id": "ovUBPDN17zsJ",
        "colab_type": "code",
        "colab": {}
      },
      "source": [
        "#Scatter plot will check for any correlation between perceptions of corruption and GDP\n",
        "plt.scatter(df['GDP per capita'], df['Perceptions of corruption'])\n",
        "\n",
        "# Title\n",
        "plt.title('GDP verses Perceptions on corruption')\n",
        "\n",
        "# X axis label\n",
        "plt.xlabel('GDP per capita)')\n",
        "\n",
        "# y axis label\n",
        "plt.ylabel('Perceptions of corruption')\n",
        "\n",
        "# Display scatterplot\n",
        "plt.show()\n"
      ],
      "execution_count": 0,
      "outputs": []
    },
    {
      "cell_type": "markdown",
      "metadata": {
        "id": "cNbgzn28_5lr",
        "colab_type": "text"
      },
      "source": [
        "Observation\n",
        "\n",
        "There is a weak positive corelation between the GDP per capita and perceptions of corruption. An increase in the GDP per capita slightly increases the perceptions of corruption."
      ]
    },
    {
      "cell_type": "markdown",
      "metadata": {
        "colab_type": "text",
        "id": "j9qqg3Os1inj"
      },
      "source": [
        "## Feature Engineering\n",
        "\n",
        "Create a new strata based on Happiness score.\n",
        "This is to ensure all happiness scores are well represented in the sample"
      ]
    },
    {
      "cell_type": "code",
      "metadata": {
        "id": "xrYY7Hym1_15",
        "colab_type": "code",
        "colab": {}
      },
      "source": [
        "# Create strata based on happiness score.\n"
      ],
      "execution_count": 0,
      "outputs": []
    },
    {
      "cell_type": "code",
      "metadata": {
        "id": "WdRUPKbp19ZO",
        "colab_type": "code",
        "colab": {}
      },
      "source": [
        "#Procedure to assign strata based on Happiness score\n",
        "def assign_strata():\n",
        "# Create a list to store the data\n",
        "    strata = []\n",
        "    # For each row in the column,\n",
        "    for score in df['Score']:\n",
        "        if score >= 2 and score <= 3.5:\n",
        "            strata.append(1)      \n",
        "        elif score >= 3.5 and score <= 5.0:\n",
        "            strata.append(2)\n",
        "        elif score >= 5 and score <= 6.5:\n",
        "            strata.append(3)\n",
        "        elif score >= 6.5 and score <= 8:\n",
        "            strata.append(4) \n",
        "\n",
        " # Create a column from the list\n",
        "    df['strata'] = strata"
      ],
      "execution_count": 0,
      "outputs": []
    },
    {
      "cell_type": "code",
      "metadata": {
        "id": "1q832eAO2fjK",
        "colab_type": "code",
        "colab": {}
      },
      "source": [
        "#Execute the procedure\n",
        "assign_strata()"
      ],
      "execution_count": 0,
      "outputs": []
    },
    {
      "cell_type": "code",
      "metadata": {
        "id": "kCIchUaR2kQn",
        "colab_type": "code",
        "colab": {}
      },
      "source": [
        "df.sample(5)"
      ],
      "execution_count": 0,
      "outputs": []
    },
    {
      "cell_type": "markdown",
      "metadata": {
        "id": "4BZ2dBss7ztU",
        "colab_type": "text"
      },
      "source": [
        "## Sampling"
      ]
    },
    {
      "cell_type": "markdown",
      "metadata": {
        "id": "J2ubo9Ps7ztW",
        "colab_type": "text"
      },
      "source": [
        "a) Stratified sampling to be used"
      ]
    },
    {
      "cell_type": "code",
      "metadata": {
        "id": "Lu9325l57ztY",
        "colab_type": "code",
        "colab": {}
      },
      "source": [
        "#Distributions of records per strata\n",
        "df['strata'].value_counts().sort_values()"
      ],
      "execution_count": 0,
      "outputs": []
    },
    {
      "cell_type": "markdown",
      "metadata": {
        "id": "3BY-IXzr7zte",
        "colab_type": "text"
      },
      "source": [
        "b) Sampling approach\n",
        "\n",
        "Stratified sampling to be applied where 33% of records will be selected from each strata"
      ]
    },
    {
      "cell_type": "code",
      "metadata": {
        "id": "OcUmp6EN7zth",
        "colab_type": "code",
        "colab": {}
      },
      "source": [
        "# Stratified sample\n",
        "df_strat = df.groupby('strata', group_keys=False).apply(lambda grouped_subset : grouped_subset.sample(frac=0.33))\n",
        "print(df_strat.shape)\n",
        "df_strat['strata'].value_counts().sort_values()"
      ],
      "execution_count": 0,
      "outputs": []
    },
    {
      "cell_type": "markdown",
      "metadata": {
        "id": "GCsM5ktC7ztm",
        "colab_type": "text"
      },
      "source": [
        "## Sampling Normality tests"
      ]
    },
    {
      "cell_type": "markdown",
      "metadata": {
        "id": "4xf_YAmQ7ztn",
        "colab_type": "text"
      },
      "source": [
        "a) Distribution per strata before sampling"
      ]
    },
    {
      "cell_type": "code",
      "metadata": {
        "id": "3AyJywUW7ztp",
        "colab_type": "code",
        "colab": {}
      },
      "source": [
        "# histogram plot of whole population per strata\n",
        "plt.hist(df['strata'])\n",
        "plt.xlabel(\"Strata\")\n",
        "plt.ylabel(\"Records Count\")\n",
        "plt.title(\"Records Count Per Strata for Whole Population\")\n",
        "plt.show()"
      ],
      "execution_count": 0,
      "outputs": []
    },
    {
      "cell_type": "markdown",
      "metadata": {
        "id": "9Mld1XP-7ztu",
        "colab_type": "text"
      },
      "source": [
        "b) Distribution per strata after sampling"
      ]
    },
    {
      "cell_type": "code",
      "metadata": {
        "id": "hsp-7Sy47zt0",
        "colab_type": "code",
        "colab": {}
      },
      "source": [
        "#Distribution post sampling\n",
        "plt.hist(df_strat['strata'])\n",
        "plt.xlabel(\"Strata\")\n",
        "plt.ylabel(\"Records Count\")\n",
        "plt.title(\"Records Count Per Strata for Sample Population\")\n",
        "plt.show()"
      ],
      "execution_count": 0,
      "outputs": []
    },
    {
      "cell_type": "markdown",
      "metadata": {
        "id": "h_7S2CGV7zt5",
        "colab_type": "text"
      },
      "source": [
        "The distribution pattern before sampling and after sampling is similar hence sampling was well distributed across all strata."
      ]
    },
    {
      "cell_type": "markdown",
      "metadata": {
        "id": "PGqYevaP7zuZ",
        "colab_type": "text"
      },
      "source": [
        "## Hypothesis Testing"
      ]
    },
    {
      "cell_type": "markdown",
      "metadata": {
        "id": "KCo9jMiY7zud",
        "colab_type": "text"
      },
      "source": [
        "#### a) Hypothesis"
      ]
    },
    {
      "cell_type": "markdown",
      "metadata": {
        "id": "CQeVYeUs7zuf",
        "colab_type": "text"
      },
      "source": [
        "#### Null Hypothesis :\n",
        "Average number of cars returned in Paris over weekends is same as those returned in Seine Saint Denis.\n",
        "\n",
        "#### Alternative Hypothesis: \n",
        "Average number of cars returned in Paris over weekends is not the same as those returned in Seine Saint Denis.\n",
        "\n",
        "Ho :  μ of Paris = μ of Seine Saint Denis\n",
        "\n",
        "Ha :  μ of Paris ≠ μ of Seine Saint Denis\n",
        "\n",
        "So, the test is for two independent samples similar to what is specified here http://sphweb.bumc.bu.edu/otlt/MPH-Modules/BS/BS704_HypothesisTest-Means-Proportions/BS704_HypothesisTest-Means-Proportions6.html\n"
      ]
    },
    {
      "cell_type": "markdown",
      "metadata": {
        "id": "rFGZKWCI7zui",
        "colab_type": "text"
      },
      "source": [
        "#### b) Significance Level"
      ]
    },
    {
      "cell_type": "markdown",
      "metadata": {
        "id": "4c1Jg93E7zuo",
        "colab_type": "text"
      },
      "source": [
        "Significance level of to validate the hypothesis above is 0.05 "
      ]
    },
    {
      "cell_type": "markdown",
      "metadata": {
        "id": "rGtdLfbG7zup",
        "colab_type": "text"
      },
      "source": [
        "#### c) Test Statistic"
      ]
    },
    {
      "cell_type": "code",
      "metadata": {
        "id": "Jcb7d-Dj7zur",
        "colab_type": "code",
        "colab": {}
      },
      "source": [
        "print(\"n1 = Paris: \",df_bc_sample_ssd.shape)\n",
        "print(\"n2 = Seine-Saint-Denis\",df_bc_sample_paris.shape)"
      ],
      "execution_count": 0,
      "outputs": []
    },
    {
      "cell_type": "code",
      "metadata": {
        "id": "GL8h_Ej_7zux",
        "colab_type": "code",
        "colab": {}
      },
      "source": [
        "#Paris Distribution\n",
        "df_bc_sample_paris['BlueCars_taken_sum'].hist()\n",
        "plt.show()"
      ],
      "execution_count": 0,
      "outputs": []
    },
    {
      "cell_type": "markdown",
      "metadata": {
        "id": "DW-o1-vG7zu3",
        "colab_type": "text"
      },
      "source": [
        "Conclusion:\n",
        "\n",
        "if n1 > 30 and n2 > 30\n",
        "![image.png](attachment:image.png)\n",
        "\n",
        "if n1 < 30 or n2 < 30\n",
        "![image.png](attachment:image.png) where df =n1+n2-2.\n",
        "\n",
        "Population is greater than 30 so Z statistic to be used"
      ]
    },
    {
      "cell_type": "markdown",
      "metadata": {
        "id": "uzro00Ak7zu4",
        "colab_type": "text"
      },
      "source": [
        "#### d) Z- score and P-Value Calculation"
      ]
    },
    {
      "cell_type": "code",
      "metadata": {
        "id": "hUUo3B5E7zu5",
        "colab_type": "code",
        "colab": {}
      },
      "source": [
        "def calculate_zscore(sample1, sample2):\n",
        "    ztest ,pval1 = stests.ztest(sample1, x2=sample2, value=0,alternative='two-sided')\n",
        "    print(float(pval1))\n",
        "    return (ztest ,pval1)\n",
        "    \n",
        "def hypothesis_eval(p_value,alpha):\n",
        "  #P-value <= significance level (a) => Reject your null hypothesis in favor of your alternative hypothesis.  Your result is statistically significant.\n",
        "  if p_value < alpha:\n",
        "    result = \"Reject the null hypothesis and conclude that the effect is statistically significant\"\n",
        "  else:\n",
        "    #P-value > significance level (a) => Fail to reject your null hypothesis.  Your result is not statistically significant.\n",
        "    result = \"Fail to reject the null hypothesis\"\n",
        "  return result\n",
        "\n",
        "def initialize_variables():\n",
        "  HoP = 'mu for Paris is equal to Seine-Saint-Denis'\n",
        "  HaP = 'mu for Paris is not equal to Seine-Saint-Denis'\n",
        "  paris_bar = get_mean(df_bc_sample_paris['BlueCars_taken_sum']) # Paris Mean\n",
        "  ssd_bar = get_mean(df_bc_sample_ssd['BlueCars_taken_sum']) # SSD Mean \n",
        "  paris_n =df_bc_sample_paris.shape[0]   #n1                          \n",
        "  ssd_n =df_bc_sample_ssd.shape[0]  #n2\n",
        "  paris_sigma = np.std(df_bc_sample_paris['BlueCars_taken_sum']) #Standard Deviation of paris\n",
        "  ssd_sigma = np.std(df_bc_sample_ssd['BlueCars_taken_sum']) #Standard Deviation of ssd\n",
        "  pop_sigma = 0\n",
        "  alpha = 0.05\n",
        "  return (HoP,HaP,paris_bar,ssd_bar, paris_n,ssd_n,paris_sigma,ssd_sigma,alpha)\n",
        "  \n",
        "#Function to calculate all\n",
        "def calculate_all():\n",
        "  HoP,HaP, x1bar,x2bar, paris_n,ssd_n,paris_sigma,ssd_sigma,alpha = initialize_variables()\n",
        "  z_score , p_value = calculate_zscore(df_bc_sample_paris['BlueCars_taken_sum']\n",
        "                                      ,df_bc_sample_ssd['BlueCars_taken_sum'])\n",
        "  print(\"Z score\" , z_score, \" P value \", p_value )\n",
        "  result = hypothesis_eval(p_value,alpha)\n",
        "  print(\"Hypothesis: Null: \",HoP)\n",
        "  print(\"Alternate:\",HaP, ' Alpha ',alpha)\n",
        "  print(\"Significance Level / Alpha is \",alpha)\n",
        "  print(\"Paris Mean: \",x1bar, \" SSD Mean :\",x2bar )\n",
        "  print('x_bar ', x1bar,  'ssd_n',ssd_n,'paris_sigma ',paris_sigma,' ssd_sigma ',ssd_sigma)\n",
        "  print(\"Z score is\", z_score,\"P value is\", p_value)\n",
        "  print(result)\n",
        "\n",
        "calculate_all()"
      ],
      "execution_count": 0,
      "outputs": []
    },
    {
      "cell_type": "markdown",
      "metadata": {
        "id": "4FB879AS7zu9",
        "colab_type": "text"
      },
      "source": [
        "Above calculation has Z score being too high which is likely to result to erroneous conclusion.\n",
        "The z score is high because of outliers. Therebeing, will drop the outliers then re-calculate."
      ]
    },
    {
      "cell_type": "markdown",
      "metadata": {
        "id": "QAeeuC-n7zu-",
        "colab_type": "text"
      },
      "source": [
        "### Dropping outliers"
      ]
    },
    {
      "cell_type": "markdown",
      "metadata": {
        "id": "3CDoNLd_7zu-",
        "colab_type": "text"
      },
      "source": [
        "a) Paris Dataset"
      ]
    },
    {
      "cell_type": "code",
      "metadata": {
        "id": "mZWxD29M7zu_",
        "colab_type": "code",
        "colab": {}
      },
      "source": [
        "#------------------------------------------------------------------------------\n",
        "#------------------------------------------------------------------------------\n",
        "# accept a dataframe, remove outliers, return cleaned data in a new dataframe\n",
        "# see http://www.itl.nist.gov/div898/handbook/prc/section1/prc16.htm\n",
        "#------------------------------------------------------------------------------\n",
        "def remove_outlier(df_in, col_name):\n",
        "    q1 = df_in[col_name].quantile(0.25)\n",
        "    q3 = df_in[col_name].quantile(0.75)\n",
        "    iqr = q3-q1 #Interquartile range\n",
        "    fence_low  = q1-1.5*iqr\n",
        "    fence_high = q3+1.5*iqr\n",
        "    df_out = df_in.loc[(df_in[col_name] > fence_low) & (df_in[col_name] < fence_high)]\n",
        "    return df_out"
      ],
      "execution_count": 0,
      "outputs": []
    },
    {
      "cell_type": "code",
      "metadata": {
        "id": "8DVPHgoT7zvC",
        "colab_type": "code",
        "colab": {}
      },
      "source": [
        "#Sample with no outliers\n",
        "df_out = remove_outlier(df_bc_strat,'BlueCars_taken_sum')\n",
        "#SSD sample\n",
        "df_out_out_ssd = df_out[ (df_out['strata']==5) & (df_out['day_type']=='weekend')]\n",
        "df_out_out_ssd = df_out_out_ssd.copy()\n",
        "#Paris Sample\n",
        "df_out_out_paris = df_out[ (df_out['strata']==1) & (df_out['day_type']=='weekend')]\n",
        "df_out_out_paris = df_out_out_paris.copy()"
      ],
      "execution_count": 0,
      "outputs": []
    },
    {
      "cell_type": "code",
      "metadata": {
        "id": "K4arRdD_7zvG",
        "colab_type": "code",
        "colab": {}
      },
      "source": [
        "df_bc_sample_ssd.shape"
      ],
      "execution_count": 0,
      "outputs": []
    },
    {
      "cell_type": "code",
      "metadata": {
        "id": "5gcEJiBL7zvJ",
        "colab_type": "code",
        "colab": {}
      },
      "source": [
        "#Calculate z score and pvalue\n",
        "def initialize_variables():\n",
        "  HoP = 'mu for Paris is equal to Seine-Saint-Denis'\n",
        "  HaP = 'mu for Paris is not equal to Seine-Saint-Denis'\n",
        "  paris_bar = get_mean(df_bc_sample_paris['BlueCars_taken_sum']) # Paris Mean\n",
        "  ssd_bar = get_mean(df_bc_sample_ssd['BlueCars_taken_sum']) # SSD Mean \n",
        "  paris_n =df_out_out_ssd.shape[0]   #n1                          \n",
        "  ssd_n =df_out_out_paris.shape[0]  #n2\n",
        "  paris_sigma = np.std(df_out_out_ssd['BlueCars_taken_sum']) #Standard Deviation of paris\n",
        "  ssd_sigma = np.std(df_out_out_paris['BlueCars_taken_sum']) #Standard Deviation of ssd\n",
        "  pop_sigma = 0\n",
        "  alpha = 0.05\n",
        "  return (HoP,HaP,paris_bar,ssd_bar, paris_n,ssd_n,paris_sigma,ssd_sigma,alpha)\n",
        "  \n",
        "#Function to calculate all\n",
        "def calculate_all():\n",
        "  HoP,HaP, x1bar,x2bar, paris_n,ssd_n,paris_sigma,ssd_sigma,alpha = initialize_variables()\n",
        "  z_score , p_value = calculate_zscore(df_out_out_ssd['BlueCars_taken_sum']\n",
        "                                      ,df_out_out_paris['BlueCars_taken_sum'])\n",
        "  print(\"Z score\" , z_score, \" P value \", p_value )\n",
        "  result = hypothesis_eval(p_value,alpha)\n",
        "  print(\"Hypothesis: Null: \",HoP)\n",
        "  print(\"Alternate:\",HaP, ' Alpha ',alpha)\n",
        "  print(\"Significance Level / Alpha is \",alpha)\n",
        "  print(\"Paris Mean: \",x1bar, \" SSD Mean :\",x2bar )\n",
        "  print('x_bar ', x1bar,  'ssd_n',ssd_n,'paris_sigma ',paris_sigma,' ssd_sigma ',ssd_sigma)\n",
        "  print(\"Z score is\", z_score,\"P value is\", p_value)\n",
        "  print(result)\n",
        "\n",
        "calculate_all()"
      ],
      "execution_count": 0,
      "outputs": []
    },
    {
      "cell_type": "markdown",
      "metadata": {
        "id": "RkfWlSho7zvQ",
        "colab_type": "text"
      },
      "source": [
        "## Summary"
      ]
    },
    {
      "cell_type": "markdown",
      "metadata": {
        "id": "iBEkixHv7zvR",
        "colab_type": "text"
      },
      "source": [
        "Outcome: The Null that mean of paris is same as mean of Seine-Saint-Denis is rejected with a P-Value of 1.527956353696186e-11.\n",
        "\n",
        "The average daily returned cars in Paris is 465 against that of Seine-Saint-Denisof 41.\n",
        "\n",
        "Notably, this is after dropping of outliers. The outliers were dropped as data was not normally distributed which causes failure in usage of z test. It's proposed a further test mechanism is explored which includes the outliers. Dropping of may result to Type 1 error.\n"
      ]
    }
  ]
}